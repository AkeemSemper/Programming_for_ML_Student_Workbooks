{
 "cells": [
  {
   "cell_type": "code",
   "execution_count": 26,
   "metadata": {},
   "outputs": [],
   "source": [
    "import pandas as pd\n",
    "from sklearn import datasets\n",
    "import seaborn as sns\n",
    "import numpy as np"
   ]
  },
  {
   "cell_type": "markdown",
   "metadata": {},
   "source": [
    "# Basic Data Management\n",
    "\n",
    "The first step of any data analysis is to get the data into a format that is easy to work with. This is often called data wrangling, data preparation, and/or data cleanup. This process normally starts with loading data into a Pandas' Dataframe, and continues with exploring and manipulating the data until it is in the format we need.\n",
    "\n",
    "## What's the Goal?\n",
    "\n",
    "The end goal of the process is to have data that is \"ready to use\" for data analysis. This target is not one specific thing, and is sometimes a moving target, but some general guidelines are:\n",
    "\n",
    "- The data is in one table (or DataFrame in our case)\n",
    "- Each variable forms a column\n",
    "- Each observation forms a row\n",
    "- There are no missing values, or at least missing values are documented\n",
    "- Column names are human-readable, consistent, and unique\n",
    "- The data has been checked for outliers and other strange values\n",
    "- The data has a consistent data type in each column (e.g. no numeric values that are stored as strings)\n",
    "\n",
    "Preparing data is both an art and a science, and is often iterative in practice. We build a 'toolkit' of techniques that might be useful, then depending on the exact data we have and analysis we are trying to do, we choose our actions to get what we want. This is obviously very vague, and the end target may not be clear until you understand the analysis portion we'll cover better. "
   ]
  },
  {
   "cell_type": "markdown",
   "metadata": {},
   "source": [
    "## Exploring Data\n",
    "\n",
    "The first step is to explore our data, or basically look to see what we have. We'll start by looking at single variable statistics, or metrics that tell us about one value at a time. \n",
    "\n",
    "<b>Note: data preparation requires that we have a reasonable understanding of data types - particularly numeric vs. categorical data. Here we mainly focus on numerical variables. </b>"
   ]
  },
  {
   "cell_type": "code",
   "execution_count": 27,
   "metadata": {},
   "outputs": [
    {
     "data": {
      "text/html": [
       "<div>\n",
       "<style scoped>\n",
       "    .dataframe tbody tr th:only-of-type {\n",
       "        vertical-align: middle;\n",
       "    }\n",
       "\n",
       "    .dataframe tbody tr th {\n",
       "        vertical-align: top;\n",
       "    }\n",
       "\n",
       "    .dataframe thead th {\n",
       "        text-align: right;\n",
       "    }\n",
       "</style>\n",
       "<table border=\"1\" class=\"dataframe\">\n",
       "  <thead>\n",
       "    <tr style=\"text-align: right;\">\n",
       "      <th></th>\n",
       "      <th>MedInc</th>\n",
       "      <th>HouseAge</th>\n",
       "      <th>AveRooms</th>\n",
       "      <th>AveBedrms</th>\n",
       "      <th>Population</th>\n",
       "      <th>AveOccup</th>\n",
       "      <th>Latitude</th>\n",
       "      <th>Longitude</th>\n",
       "    </tr>\n",
       "  </thead>\n",
       "  <tbody>\n",
       "    <tr>\n",
       "      <th>0</th>\n",
       "      <td>8.3252</td>\n",
       "      <td>40s</td>\n",
       "      <td>6.984127</td>\n",
       "      <td>1.023810</td>\n",
       "      <td>322.0</td>\n",
       "      <td>2.555556</td>\n",
       "      <td>37.88</td>\n",
       "      <td>-122.23</td>\n",
       "    </tr>\n",
       "    <tr>\n",
       "      <th>1</th>\n",
       "      <td>8.3014</td>\n",
       "      <td>20s</td>\n",
       "      <td>6.238137</td>\n",
       "      <td>0.971880</td>\n",
       "      <td>2401.0</td>\n",
       "      <td>2.109842</td>\n",
       "      <td>37.86</td>\n",
       "      <td>-122.22</td>\n",
       "    </tr>\n",
       "    <tr>\n",
       "      <th>2</th>\n",
       "      <td>7.2574</td>\n",
       "      <td>50s</td>\n",
       "      <td>8.288136</td>\n",
       "      <td>1.073446</td>\n",
       "      <td>496.0</td>\n",
       "      <td>2.802260</td>\n",
       "      <td>37.85</td>\n",
       "      <td>-122.24</td>\n",
       "    </tr>\n",
       "    <tr>\n",
       "      <th>3</th>\n",
       "      <td>5.6431</td>\n",
       "      <td>50s</td>\n",
       "      <td>5.817352</td>\n",
       "      <td>1.073059</td>\n",
       "      <td>558.0</td>\n",
       "      <td>2.547945</td>\n",
       "      <td>37.85</td>\n",
       "      <td>-122.25</td>\n",
       "    </tr>\n",
       "    <tr>\n",
       "      <th>4</th>\n",
       "      <td>3.8462</td>\n",
       "      <td>50s</td>\n",
       "      <td>6.281853</td>\n",
       "      <td>1.081081</td>\n",
       "      <td>565.0</td>\n",
       "      <td>2.181467</td>\n",
       "      <td>37.85</td>\n",
       "      <td>-122.25</td>\n",
       "    </tr>\n",
       "  </tbody>\n",
       "</table>\n",
       "</div>"
      ],
      "text/plain": [
       "   MedInc HouseAge  AveRooms  AveBedrms  Population  AveOccup  Latitude  \\\n",
       "0  8.3252      40s  6.984127   1.023810       322.0  2.555556     37.88   \n",
       "1  8.3014      20s  6.238137   0.971880      2401.0  2.109842     37.86   \n",
       "2  7.2574      50s  8.288136   1.073446       496.0  2.802260     37.85   \n",
       "3  5.6431      50s  5.817352   1.073059       558.0  2.547945     37.85   \n",
       "4  3.8462      50s  6.281853   1.081081       565.0  2.181467     37.85   \n",
       "\n",
       "   Longitude  \n",
       "0    -122.23  \n",
       "1    -122.22  \n",
       "2    -122.24  \n",
       "3    -122.25  \n",
       "4    -122.25  "
      ]
     },
     "execution_count": 27,
     "metadata": {},
     "output_type": "execute_result"
    }
   ],
   "source": [
    "tmp = datasets.fetch_california_housing()\n",
    "df = pd.DataFrame(tmp['data'], columns=tmp.feature_names)\n",
    "\n",
    "# Bin the HouseAge column\n",
    "# This is strictly for demonstration reasons\n",
    "bins = [20, 30, 40, 50, 60, 70, 80, 90, 100]\n",
    "labels = ['20s', '30s', '40s', '50s', '60s', '70s', '80s', '90s']\n",
    "df['HouseAge'] = pd.cut(df['HouseAge'], bins=bins, labels=labels).astype(str)\n",
    "\n",
    "df.head()\n"
   ]
  },
  {
   "cell_type": "markdown",
   "metadata": {},
   "source": [
    "### What is our Data?\n",
    "\n",
    "The first step is to get an idea of what our data even has in it. This dataset measures an assortment of real estate related measures, by town, in California. So each row is one town, and each column is a different measurement for that town. The data dictionary for this dataset is located here: https://scikit-learn.org/stable/datasets/real_world.html#california-housing-dataset, we can take a look at it to get a better idea of what we are looking at."
   ]
  },
  {
   "cell_type": "markdown",
   "metadata": {},
   "source": [
    "### Types of Data\n",
    "\n",
    "The first thing we can look at are the data types of each column. We can look at a few things right up front:\n",
    "<ul>\n",
    "<li> Are the data types what we expect? </li>\n",
    "<li> Do we have any numeric columns that are stored as something else - usually indicating an errant value in that column. </li>\n",
    "<li> If we have numbers that are floats (decimals) or integers (whole numbers) - do we need to convert them to one or the other? </li>\n",
    "<li> Are booleans stored as booleans, 1/0, or strings? </li>\n",
    "<li> Are dates stored as dates? </li>\n",
    "</ul>\n",
    "\n",
    "Each of these things can be found by comparing the assigned data types of each column to what we think they should be by inspecting the data. If we need to change one of the data types, we can use the `astype()` method to convert the data type of a column.\n"
   ]
  },
  {
   "cell_type": "code",
   "execution_count": 28,
   "metadata": {},
   "outputs": [
    {
     "name": "stdout",
     "output_type": "stream",
     "text": [
      "<class 'pandas.core.frame.DataFrame'>\n",
      "RangeIndex: 20640 entries, 0 to 20639\n",
      "Data columns (total 8 columns):\n",
      " #   Column      Non-Null Count  Dtype  \n",
      "---  ------      --------------  -----  \n",
      " 0   MedInc      20640 non-null  float64\n",
      " 1   HouseAge    20640 non-null  object \n",
      " 2   AveRooms    20640 non-null  float64\n",
      " 3   AveBedrms   20640 non-null  float64\n",
      " 4   Population  20640 non-null  float64\n",
      " 5   AveOccup    20640 non-null  float64\n",
      " 6   Latitude    20640 non-null  float64\n",
      " 7   Longitude   20640 non-null  float64\n",
      "dtypes: float64(7), object(1)\n",
      "memory usage: 1.3+ MB\n"
     ]
    }
   ],
   "source": [
    "df.info()"
   ]
  },
  {
   "cell_type": "markdown",
   "metadata": {},
   "source": [
    "We can make the HouseAge column into a \"category\" - this is a somewhat special data type that is useful for columns that have a small number of unique values. This will tell any functions/libraries that use this data to treat it as categorical. In general, strings will be interpreted as categorical, but this makes it explicit."
   ]
  },
  {
   "cell_type": "code",
   "execution_count": 29,
   "metadata": {},
   "outputs": [
    {
     "name": "stdout",
     "output_type": "stream",
     "text": [
      "<class 'pandas.core.frame.DataFrame'>\n",
      "RangeIndex: 20640 entries, 0 to 20639\n",
      "Data columns (total 8 columns):\n",
      " #   Column      Non-Null Count  Dtype   \n",
      "---  ------      --------------  -----   \n",
      " 0   MedInc      20640 non-null  float64 \n",
      " 1   HouseAge    20640 non-null  category\n",
      " 2   AveRooms    20640 non-null  float64 \n",
      " 3   AveBedrms   20640 non-null  float64 \n",
      " 4   Population  20640 non-null  float64 \n",
      " 5   AveOccup    20640 non-null  float64 \n",
      " 6   Latitude    20640 non-null  float64 \n",
      " 7   Longitude   20640 non-null  float64 \n",
      "dtypes: category(1), float64(7)\n",
      "memory usage: 1.1 MB\n"
     ]
    }
   ],
   "source": [
    "df[\"HouseAge\"] = df[\"HouseAge\"].astype(\"category\")\n",
    "df.info()"
   ]
  },
  {
   "cell_type": "markdown",
   "metadata": {},
   "source": [
    "## Single Variable Statistics\n",
    "\n",
    "The most simple statistics are the count, mean, standard deviation, minimum, and maximum. These are all available using the `describe()` method on a DataFrame, as well as through individual methods.\n",
    "\n",
    "For categorical data, the describe method will give us the count, number of unique values, the most common value, and the number of times the most common value appears."
   ]
  },
  {
   "cell_type": "code",
   "execution_count": 30,
   "metadata": {},
   "outputs": [
    {
     "data": {
      "text/html": [
       "<div>\n",
       "<style scoped>\n",
       "    .dataframe tbody tr th:only-of-type {\n",
       "        vertical-align: middle;\n",
       "    }\n",
       "\n",
       "    .dataframe tbody tr th {\n",
       "        vertical-align: top;\n",
       "    }\n",
       "\n",
       "    .dataframe thead th {\n",
       "        text-align: right;\n",
       "    }\n",
       "</style>\n",
       "<table border=\"1\" class=\"dataframe\">\n",
       "  <thead>\n",
       "    <tr style=\"text-align: right;\">\n",
       "      <th></th>\n",
       "      <th>MedInc</th>\n",
       "      <th>AveRooms</th>\n",
       "      <th>AveBedrms</th>\n",
       "      <th>Population</th>\n",
       "      <th>AveOccup</th>\n",
       "      <th>Latitude</th>\n",
       "      <th>Longitude</th>\n",
       "    </tr>\n",
       "  </thead>\n",
       "  <tbody>\n",
       "    <tr>\n",
       "      <th>count</th>\n",
       "      <td>20640.000000</td>\n",
       "      <td>20640.000000</td>\n",
       "      <td>20640.000000</td>\n",
       "      <td>20640.000000</td>\n",
       "      <td>20640.000000</td>\n",
       "      <td>20640.000000</td>\n",
       "      <td>20640.000000</td>\n",
       "    </tr>\n",
       "    <tr>\n",
       "      <th>mean</th>\n",
       "      <td>3.870671</td>\n",
       "      <td>5.429000</td>\n",
       "      <td>1.096675</td>\n",
       "      <td>1425.476744</td>\n",
       "      <td>3.070655</td>\n",
       "      <td>35.631861</td>\n",
       "      <td>-119.569704</td>\n",
       "    </tr>\n",
       "    <tr>\n",
       "      <th>std</th>\n",
       "      <td>1.899822</td>\n",
       "      <td>2.474173</td>\n",
       "      <td>0.473911</td>\n",
       "      <td>1132.462122</td>\n",
       "      <td>10.386050</td>\n",
       "      <td>2.135952</td>\n",
       "      <td>2.003532</td>\n",
       "    </tr>\n",
       "    <tr>\n",
       "      <th>min</th>\n",
       "      <td>0.499900</td>\n",
       "      <td>0.846154</td>\n",
       "      <td>0.333333</td>\n",
       "      <td>3.000000</td>\n",
       "      <td>0.692308</td>\n",
       "      <td>32.540000</td>\n",
       "      <td>-124.350000</td>\n",
       "    </tr>\n",
       "    <tr>\n",
       "      <th>25%</th>\n",
       "      <td>2.563400</td>\n",
       "      <td>4.440716</td>\n",
       "      <td>1.006079</td>\n",
       "      <td>787.000000</td>\n",
       "      <td>2.429741</td>\n",
       "      <td>33.930000</td>\n",
       "      <td>-121.800000</td>\n",
       "    </tr>\n",
       "    <tr>\n",
       "      <th>50%</th>\n",
       "      <td>3.534800</td>\n",
       "      <td>5.229129</td>\n",
       "      <td>1.048780</td>\n",
       "      <td>1166.000000</td>\n",
       "      <td>2.818116</td>\n",
       "      <td>34.260000</td>\n",
       "      <td>-118.490000</td>\n",
       "    </tr>\n",
       "    <tr>\n",
       "      <th>75%</th>\n",
       "      <td>4.743250</td>\n",
       "      <td>6.052381</td>\n",
       "      <td>1.099526</td>\n",
       "      <td>1725.000000</td>\n",
       "      <td>3.282261</td>\n",
       "      <td>37.710000</td>\n",
       "      <td>-118.010000</td>\n",
       "    </tr>\n",
       "    <tr>\n",
       "      <th>max</th>\n",
       "      <td>15.000100</td>\n",
       "      <td>141.909091</td>\n",
       "      <td>34.066667</td>\n",
       "      <td>35682.000000</td>\n",
       "      <td>1243.333333</td>\n",
       "      <td>41.950000</td>\n",
       "      <td>-114.310000</td>\n",
       "    </tr>\n",
       "  </tbody>\n",
       "</table>\n",
       "</div>"
      ],
      "text/plain": [
       "             MedInc      AveRooms     AveBedrms    Population      AveOccup  \\\n",
       "count  20640.000000  20640.000000  20640.000000  20640.000000  20640.000000   \n",
       "mean       3.870671      5.429000      1.096675   1425.476744      3.070655   \n",
       "std        1.899822      2.474173      0.473911   1132.462122     10.386050   \n",
       "min        0.499900      0.846154      0.333333      3.000000      0.692308   \n",
       "25%        2.563400      4.440716      1.006079    787.000000      2.429741   \n",
       "50%        3.534800      5.229129      1.048780   1166.000000      2.818116   \n",
       "75%        4.743250      6.052381      1.099526   1725.000000      3.282261   \n",
       "max       15.000100    141.909091     34.066667  35682.000000   1243.333333   \n",
       "\n",
       "           Latitude     Longitude  \n",
       "count  20640.000000  20640.000000  \n",
       "mean      35.631861   -119.569704  \n",
       "std        2.135952      2.003532  \n",
       "min       32.540000   -124.350000  \n",
       "25%       33.930000   -121.800000  \n",
       "50%       34.260000   -118.490000  \n",
       "75%       37.710000   -118.010000  \n",
       "max       41.950000   -114.310000  "
      ]
     },
     "execution_count": 30,
     "metadata": {},
     "output_type": "execute_result"
    }
   ],
   "source": [
    "df.describe()"
   ]
  },
  {
   "cell_type": "markdown",
   "metadata": {},
   "source": [
    "We can also use the \"include\" argument to either force the method to include columns of a certain data type or force it to include all columns. The .T is a shortcut to transpose the output, which makes it easier to read in some scenarios - that's strictly optional. "
   ]
  },
  {
   "cell_type": "code",
   "execution_count": 31,
   "metadata": {},
   "outputs": [
    {
     "data": {
      "text/html": [
       "<div>\n",
       "<style scoped>\n",
       "    .dataframe tbody tr th:only-of-type {\n",
       "        vertical-align: middle;\n",
       "    }\n",
       "\n",
       "    .dataframe tbody tr th {\n",
       "        vertical-align: top;\n",
       "    }\n",
       "\n",
       "    .dataframe thead th {\n",
       "        text-align: right;\n",
       "    }\n",
       "</style>\n",
       "<table border=\"1\" class=\"dataframe\">\n",
       "  <thead>\n",
       "    <tr style=\"text-align: right;\">\n",
       "      <th></th>\n",
       "      <th>count</th>\n",
       "      <th>unique</th>\n",
       "      <th>top</th>\n",
       "      <th>freq</th>\n",
       "      <th>mean</th>\n",
       "      <th>std</th>\n",
       "      <th>min</th>\n",
       "      <th>25%</th>\n",
       "      <th>50%</th>\n",
       "      <th>75%</th>\n",
       "      <th>max</th>\n",
       "    </tr>\n",
       "  </thead>\n",
       "  <tbody>\n",
       "    <tr>\n",
       "      <th>MedInc</th>\n",
       "      <td>20640.0</td>\n",
       "      <td>NaN</td>\n",
       "      <td>NaN</td>\n",
       "      <td>NaN</td>\n",
       "      <td>3.870671</td>\n",
       "      <td>1.899822</td>\n",
       "      <td>0.4999</td>\n",
       "      <td>2.5634</td>\n",
       "      <td>3.5348</td>\n",
       "      <td>4.74325</td>\n",
       "      <td>15.0001</td>\n",
       "    </tr>\n",
       "    <tr>\n",
       "      <th>HouseAge</th>\n",
       "      <td>20640</td>\n",
       "      <td>5</td>\n",
       "      <td>nan</td>\n",
       "      <td>6293</td>\n",
       "      <td>NaN</td>\n",
       "      <td>NaN</td>\n",
       "      <td>NaN</td>\n",
       "      <td>NaN</td>\n",
       "      <td>NaN</td>\n",
       "      <td>NaN</td>\n",
       "      <td>NaN</td>\n",
       "    </tr>\n",
       "    <tr>\n",
       "      <th>AveRooms</th>\n",
       "      <td>20640.0</td>\n",
       "      <td>NaN</td>\n",
       "      <td>NaN</td>\n",
       "      <td>NaN</td>\n",
       "      <td>5.429</td>\n",
       "      <td>2.474173</td>\n",
       "      <td>0.846154</td>\n",
       "      <td>4.440716</td>\n",
       "      <td>5.229129</td>\n",
       "      <td>6.052381</td>\n",
       "      <td>141.909091</td>\n",
       "    </tr>\n",
       "    <tr>\n",
       "      <th>AveBedrms</th>\n",
       "      <td>20640.0</td>\n",
       "      <td>NaN</td>\n",
       "      <td>NaN</td>\n",
       "      <td>NaN</td>\n",
       "      <td>1.096675</td>\n",
       "      <td>0.473911</td>\n",
       "      <td>0.333333</td>\n",
       "      <td>1.006079</td>\n",
       "      <td>1.04878</td>\n",
       "      <td>1.099526</td>\n",
       "      <td>34.066667</td>\n",
       "    </tr>\n",
       "    <tr>\n",
       "      <th>Population</th>\n",
       "      <td>20640.0</td>\n",
       "      <td>NaN</td>\n",
       "      <td>NaN</td>\n",
       "      <td>NaN</td>\n",
       "      <td>1425.476744</td>\n",
       "      <td>1132.462122</td>\n",
       "      <td>3.0</td>\n",
       "      <td>787.0</td>\n",
       "      <td>1166.0</td>\n",
       "      <td>1725.0</td>\n",
       "      <td>35682.0</td>\n",
       "    </tr>\n",
       "    <tr>\n",
       "      <th>AveOccup</th>\n",
       "      <td>20640.0</td>\n",
       "      <td>NaN</td>\n",
       "      <td>NaN</td>\n",
       "      <td>NaN</td>\n",
       "      <td>3.070655</td>\n",
       "      <td>10.38605</td>\n",
       "      <td>0.692308</td>\n",
       "      <td>2.429741</td>\n",
       "      <td>2.818116</td>\n",
       "      <td>3.282261</td>\n",
       "      <td>1243.333333</td>\n",
       "    </tr>\n",
       "    <tr>\n",
       "      <th>Latitude</th>\n",
       "      <td>20640.0</td>\n",
       "      <td>NaN</td>\n",
       "      <td>NaN</td>\n",
       "      <td>NaN</td>\n",
       "      <td>35.631861</td>\n",
       "      <td>2.135952</td>\n",
       "      <td>32.54</td>\n",
       "      <td>33.93</td>\n",
       "      <td>34.26</td>\n",
       "      <td>37.71</td>\n",
       "      <td>41.95</td>\n",
       "    </tr>\n",
       "    <tr>\n",
       "      <th>Longitude</th>\n",
       "      <td>20640.0</td>\n",
       "      <td>NaN</td>\n",
       "      <td>NaN</td>\n",
       "      <td>NaN</td>\n",
       "      <td>-119.569704</td>\n",
       "      <td>2.003532</td>\n",
       "      <td>-124.35</td>\n",
       "      <td>-121.8</td>\n",
       "      <td>-118.49</td>\n",
       "      <td>-118.01</td>\n",
       "      <td>-114.31</td>\n",
       "    </tr>\n",
       "  </tbody>\n",
       "</table>\n",
       "</div>"
      ],
      "text/plain": [
       "              count unique  top  freq         mean          std       min  \\\n",
       "MedInc      20640.0    NaN  NaN   NaN     3.870671     1.899822    0.4999   \n",
       "HouseAge      20640      5  nan  6293          NaN          NaN       NaN   \n",
       "AveRooms    20640.0    NaN  NaN   NaN        5.429     2.474173  0.846154   \n",
       "AveBedrms   20640.0    NaN  NaN   NaN     1.096675     0.473911  0.333333   \n",
       "Population  20640.0    NaN  NaN   NaN  1425.476744  1132.462122       3.0   \n",
       "AveOccup    20640.0    NaN  NaN   NaN     3.070655     10.38605  0.692308   \n",
       "Latitude    20640.0    NaN  NaN   NaN    35.631861     2.135952     32.54   \n",
       "Longitude   20640.0    NaN  NaN   NaN  -119.569704     2.003532   -124.35   \n",
       "\n",
       "                 25%       50%       75%          max  \n",
       "MedInc        2.5634    3.5348   4.74325      15.0001  \n",
       "HouseAge         NaN       NaN       NaN          NaN  \n",
       "AveRooms    4.440716  5.229129  6.052381   141.909091  \n",
       "AveBedrms   1.006079   1.04878  1.099526    34.066667  \n",
       "Population     787.0    1166.0    1725.0      35682.0  \n",
       "AveOccup    2.429741  2.818116  3.282261  1243.333333  \n",
       "Latitude       33.93     34.26     37.71        41.95  \n",
       "Longitude     -121.8   -118.49   -118.01      -114.31  "
      ]
     },
     "execution_count": 31,
     "metadata": {},
     "output_type": "execute_result"
    }
   ],
   "source": [
    "df.describe(include=\"all\").T"
   ]
  },
  {
   "cell_type": "markdown",
   "metadata": {},
   "source": [
    "There are also methods to directly get pretty much any of these statistics individually if needed. We can search for the relevant method with \"dataframe ___statistic___\" in Google. One thing that is quite useful for categorical data is the `value_counts()` method, which will give us the count of each unique value in a column."
   ]
  },
  {
   "cell_type": "code",
   "execution_count": 32,
   "metadata": {},
   "outputs": [
    {
     "data": {
      "text/plain": [
       "nan    6293\n",
       "30s    5617\n",
       "20s    4852\n",
       "40s    2557\n",
       "50s    1321\n",
       "Name: HouseAge, dtype: int64"
      ]
     },
     "execution_count": 32,
     "metadata": {},
     "output_type": "execute_result"
    }
   ],
   "source": [
    "df[\"HouseAge\"].value_counts()"
   ]
  },
  {
   "cell_type": "markdown",
   "metadata": {},
   "source": [
    "#### Simple Stats\n",
    "\n",
    "We can also generate the basic statistics for the data directly. We'll examine the details of these statistics soon, but the basics are fairly simple to understand:\n",
    "\n",
    "<ul>\n",
    "<li> Count: The number of non-null values in the column </li>\n",
    "<li> Mean: The average of the values in the column </li>\n",
    "<li> Std: The standard deviation of the values in the column (measure of spread or dispersion) </li>\n",
    "<li> Median: The middle value of the column (half above, half below) </li>\n",
    "</ul>"
   ]
  },
  {
   "cell_type": "code",
   "execution_count": 33,
   "metadata": {},
   "outputs": [
    {
     "name": "stdout",
     "output_type": "stream",
     "text": [
      "3.609322559976529\n",
      "1.8998217179452732\n",
      "3.8706710029069766\n",
      "3.5347999999999997\n"
     ]
    }
   ],
   "source": [
    "# Count\n",
    "print(df[\"MedInc\"].count())\n",
    "# Mean \n",
    "print(df[\"MedInc\"].mean())\n",
    "# Standard deviation \n",
    "print(df[\"MedInc\"].std())\n",
    "# Median \n",
    "print(df[\"MedInc\"].median())"
   ]
  },
  {
   "cell_type": "markdown",
   "metadata": {},
   "source": [
    "#### Interpreting Single Variable Statistics\n",
    "\n",
    "The statistics above give us a numerical idea of what is in each data column - how many observations, lowest, highest, average, etc... When we are doing analysis, we both need to know some of these statistics to make things work, and it also helps to understand others to make things better. For example, we can look at the min and max values to see if there are any outliers in our data - or values that are really high or really low compared to the rest of the data. For example, if a bank has \"income\" as one factor in predicting if someone will pay back their credit card, and Jeff Bezos uses that bank, knowing that Bezos paid back his card might not be helpful in predicting if normal people will. We often want to remove these outliers from our data. \n",
    "\n",
    "We can also look at the mean and standard deviation to get an idea of how spread out the data is. If the standard deviation is very high, that means that the data is spread out a lot. If the standard deviation is very low, that means that the data is very close together. This can be useful to know if we are trying to predict something - if the data is very spread out, it might be harder to predict. This sounds like a lot of numbers, too much reading, and just an excess of general frustration though, \n",
    "\n",
    "![Falling](../images/couch_better_way.gif)\n",
    "\n",
    "We can combine that with looking at those properties visually to get a better idea of what is in our data. The most common way to do this is with a histogram."
   ]
  },
  {
   "cell_type": "markdown",
   "metadata": {},
   "source": [
    "### Visualizing Single Variables - Histograms\n",
    "\n",
    " Histograms are one of the most basic and useful visualizations that we use in statistics. It allows us to clearly visualize the distribution of a variable - what values our variable can take on. \n",
    "\n",
    "A histogram is a very simple bar chart, one that always has a couple of features:\n",
    "<ul>\n",
    "<li> The value we are looking at is along the X axis. If it is a continuous value (e.g. height, weight, salary), the value is \"binned\" or broken into segments - i.e. each person earing in a $10k range is grouped togethers.  \n",
    "<li> The count of how many times that value occurs (# of instances or records in the dataset) is on the Y axis. \n",
    "</ul>\n",
    "\n",
    "So, a histogram is just a chart of a count of \"how many records have this value\".\n",
    "\n",
    "![Histogram](../images/histogram_2.png \"Histogram\")\n",
    "\n",
    "A histogram is useful, and very commonly used, because it allows us to easily and quickly get an idea of the shape of our data. "
   ]
  },
  {
   "cell_type": "code",
   "execution_count": 34,
   "metadata": {},
   "outputs": [
    {
     "data": {
      "text/plain": [
       "<Axes: >"
      ]
     },
     "execution_count": 34,
     "metadata": {},
     "output_type": "execute_result"
    },
    {
     "data": {
      "image/png": "[encoded data removed]",
      "text/plain": [
       "<Figure size 640x480 with 1 Axes>"
      ]
     },
     "metadata": {},
     "output_type": "display_data"
    }
   ],
   "source": [
    "df[\"MedInc\"].hist()"
   ]
  },
  {
   "cell_type": "markdown",
   "metadata": {},
   "source": [
    "### An Even Better Way? Get Out!!!\n",
    "\n",
    "![Get Out](../images/get_out.gif)\n",
    "\n",
    "We can also use another graphing library called Seaborn to create a histogram. Seaborn is a library that is built on top of Matplotlib, which is kind of the basis for graphs in Python, and it has some nice features that make it easier to create some more complex graphs. We'll use Seaborn for most of our visualizations. The seaborn documentation is here: https://seaborn.pydata.org/\n",
    "\n",
    "For the most part, seaborn is fairly easy to use. For most plots we need to provide the data we want to whichever function draws the plot we desire, possibly with some additional parameters like x/y axis, color, etc... We can normally start with a basic plot of just providing our data, then refine it bit by bit if we need a different look."
   ]
  },
  {
   "cell_type": "code",
   "execution_count": 35,
   "metadata": {},
   "outputs": [
    {
     "data": {
      "text/plain": [
       "<Axes: xlabel='MedInc', ylabel='Count'>"
      ]
     },
     "execution_count": 35,
     "metadata": {},
     "output_type": "execute_result"
    },
    {
     "data": {
      "image/png": "[encoded data removed]",
      "text/plain": [
       "<Figure size 640x480 with 1 Axes>"
      ]
     },
     "metadata": {},
     "output_type": "display_data"
    }
   ],
   "source": [
    "sns.histplot(data=df, x=\"MedInc\")\n"
   ]
  },
  {
   "cell_type": "markdown",
   "metadata": {},
   "source": [
    "#### Histograms and Basic Stats\n",
    "\n",
    "Histograms are very useful for gaining a basic understanding of our data, in several ways:\n",
    "<ul>\n",
    "<li> \"Shape\" of the data, or its distribution. \n",
    "<li> Basic Statistics - mean and median can be estimated (they are shown by vertical lines above)\n",
    "<li> Dispersion - is the data spread out or compacted (measured by varaiance and standard deviation)\n",
    "<li> Outliers - is anything really big or really small. \n",
    "</ul>\n",
    "\n",
    "Most critically, we can generally see what type of pattern our data follows just by looking at it in a histogram. Our data here fits a common pattern, it is (roughly) normally distributed - meaning that it's distribution is more or less a bell shape, with most records in the middle, and fewer and fewer as we move progressively farther from the mean. \n",
    "\n",
    "This visual inspection of our data in a histogram (or a similar visualization) is one of the most common things that we will do with data. "
   ]
  },
  {
   "cell_type": "markdown",
   "metadata": {},
   "source": [
    "## Exercise\n",
    "\n",
    "Try to answer the following questions about the data:\n",
    "<ol>\n",
    "<li> Are there any outliers in the AveRooms, AveBedrms, Population, or AveOccup columns? </li>\n",
    "<li> If so, can you remove them? (This might be more than one step). </li>\n",
    "<li> Does removing outliers impact the standard deviation (how spread out the data is) for these columns? </li>\n",
    "<li> What are the mean and median MedInc values after filtering? </li>\n",
    "<li> Does this indicate anything to you? (It might not). </li>\n",
    "<li> Create histograms of the finsihed data (or at least a couple, that you modified most). </li>\n",
    "</ol>\n"
   ]
  },
  {
   "cell_type": "code",
   "execution_count": 36,
   "metadata": {},
   "outputs": [],
   "source": [
    "# Start exploring\n",
    "# Remember, it may be iterative"
   ]
  },
  {
   "cell_type": "markdown",
   "metadata": {},
   "source": [
    "## Splitting Samples\n",
    "\n",
    "A very common type of analysis that we want to do is based on looking at two or more subsets in our dataset. For example, we may want to compare the lifetime earnings between people with high school vs college vs university vs graduate degrees. In a medical study we want to see how many vaccinated people get die vs how many unvaccinated people die. Comparisons of groups, and evaluating if there is a significant difference in what we see in the data between the different groups, is very common and important. \n",
    "\n",
    "#### Do Older Homes Have Higher Incomes?\n",
    "\n",
    "We can ask questions to our data, and use some statistics to answer them. For example, we can ask if older homes have people who have more money. Perhaps our suspicion is that people who have family money hold onto homes for a long time, while people with less money scramble to buy newer places that are not as valuable. To answer this, we need to split the data into two groups - older homes and newer homes. We can then compare the groups. For us, I'll use 30 years as the cutoff for \"older\" and \"newer\" homes."
   ]
  },
  {
   "cell_type": "code",
   "execution_count": 37,
   "metadata": {},
   "outputs": [
    {
     "name": "stdout",
     "output_type": "stream",
     "text": [
      "79768 85352\n"
     ]
    }
   ],
   "source": [
    "df = pd.DataFrame(tmp['data'], columns=tmp.feature_names)\n",
    "older = df[df[\"HouseAge\"] >= 30]\n",
    "newer = df[df[\"HouseAge\"] < 30]\n",
    "\n",
    "print(older.size, newer.size)"
   ]
  },
  {
   "cell_type": "code",
   "execution_count": 38,
   "metadata": {},
   "outputs": [],
   "source": [
    "df[\"isOld\"] = df[\"HouseAge\"] >= 30"
   ]
  },
  {
   "cell_type": "markdown",
   "metadata": {},
   "source": [
    "<b>Note that I did two different splits above, either may be useful depending on what we are trying to do. The first made a separate older and newer dataframe for each of the two groups. The second added a variable to allow us to split the data into two groups based on the value of that variable, but keeping the data in one dataframe. </b>\n",
    "\n",
    "We can now compare the distributions via a histogram. Seaborn commonly uses the 'hue' argument to split the data into groups - each different value in whatever we specify for hue will be a different color in the graph. I also manually specified to use 50 bins, rather than whatever default seaborn picks. "
   ]
  },
  {
   "cell_type": "code",
   "execution_count": 39,
   "metadata": {},
   "outputs": [
    {
     "data": {
      "text/plain": [
       "<Axes: xlabel='MedInc', ylabel='Count'>"
      ]
     },
     "execution_count": 39,
     "metadata": {},
     "output_type": "execute_result"
    },
    {
     "data": {
      "image/png": "[encoded data removed]",
      "text/plain": [
       "<Figure size 640x480 with 1 Axes>"
      ]
     },
     "metadata": {},
     "output_type": "display_data"
    }
   ],
   "source": [
    "sns.histplot(data=df, x=\"MedInc\", hue=df[\"isOld\"], bins=50)"
   ]
  },
  {
   "cell_type": "code",
   "execution_count": 40,
   "metadata": {},
   "outputs": [
    {
     "name": "stdout",
     "output_type": "stream",
     "text": [
      "0.36327801362069767\n",
      "0.31510000000000016\n"
     ]
    }
   ],
   "source": [
    "print(newer[\"MedInc\"].mean() - older[\"MedInc\"].mean())\n",
    "print(newer[\"MedInc\"].median() - older[\"MedInc\"].median())"
   ]
  },
  {
   "cell_type": "markdown",
   "metadata": {},
   "source": [
    "#### Detour - Density Plots\n",
    "\n",
    "We can also use an argument to change the histogram slightly to show the density of the data, rather than the count. Density basically just calculates the percentage of the data that is in each bin, rather than the raw count. This is useful if we have different numbers of records in each group, as it allows us to compare the distributions more easily. These two groups had roughly the same number of records, so the two plots are almost identical - if the difference in the number of records was larger, the density plot would be more useful.\n",
    "\n",
    "<b>Note:</b> the commented out kdeplot below is basically a smoothed version of this. If you uncomment it and leave the histplot it will overlay the two plots."
   ]
  },
  {
   "cell_type": "code",
   "execution_count": 41,
   "metadata": {},
   "outputs": [
    {
     "name": "stdout",
     "output_type": "stream",
     "text": [
      "New Count: 10669 Old Count: 9971\n"
     ]
    },
    {
     "data": {
      "text/plain": [
       "<Axes: xlabel='MedInc', ylabel='Density'>"
      ]
     },
     "execution_count": 41,
     "metadata": {},
     "output_type": "execute_result"
    },
    {
     "data": {
      "image/png": "[encoded data removed]",
      "text/plain": [
       "<Figure size 640x480 with 1 Axes>"
      ]
     },
     "metadata": {},
     "output_type": "display_data"
    }
   ],
   "source": [
    "\n",
    "print(\"New Count:\", len(newer), \"Old Count:\", len(older))\n",
    "sns.histplot(data=df, x=\"MedInc\", hue=df[\"isOld\"], bins=50, stat=\"density\")\n",
    "#sns.kdeplot(data=df, x=\"MedInc\", hue=df[\"isOld\"], fill=True)"
   ]
  },
  {
   "cell_type": "markdown",
   "metadata": {},
   "source": [
    "#### Results\n",
    "\n",
    "Based on our simple analysis, it looks like older homes have a lower income. We have several pieces of evidence for this:\n",
    "<ul>\n",
    "<li> The mean income for older homes is lower than newer homes. </li>\n",
    "<li> The median income for older homes is lower than newer homes. </li>\n",
    "<li> <b>The distribution of income for older homes is shifted to the left (lower incomes) than newer homes. We can see this visually with the \"hump\" on the right side of the bell curve, there are more new properties on that \"more valuable than average\" side of the distribution.</b></li>\n",
    "</ul>"
   ]
  },
  {
   "cell_type": "markdown",
   "metadata": {},
   "source": [
    "## Exercise\n",
    "\n",
    "Split the data into two groups based on the population of each town. Try things that are over and under 1100 people. Compare the MedInc of the two groups and see if there's evidence to suggest that one group has a higher income than the other."
   ]
  },
  {
   "cell_type": "code",
   "execution_count": 42,
   "metadata": {},
   "outputs": [],
   "source": [
    "# split and analyze"
   ]
  },
  {
   "cell_type": "markdown",
   "metadata": {},
   "source": [
    "### Evaluating Differences in Subgroups\n",
    "\n",
    "<b> Only worry about this now if you're interested, we'll talk more about the statistics later. </b>\n",
    "\n",
    "One thing we can see is that different subgroups may have different distributions - this is a common and important thing that we may want to investigate. For example, do people who take a medicince have a longer lifespan than people who take a placebo. Examining this difference and its importance is a big topic, one thing that we can look at now is called the Effect Size - a measure of how substantial the difference between two groups is. \n",
    "\n",
    "This is a very useful thing to be able to do - if you are examining the death rate of people who got a treatment vs people who didn't, a statistic like \"the non-treated population dies at a rate .087 higher than the treated population\" doesn't communicate anything substantial unless we can establish if that difference has substantial meaning."
   ]
  },
  {
   "cell_type": "code",
   "execution_count": 43,
   "metadata": {},
   "outputs": [],
   "source": [
    "def CohenEffectSize(group1, group2):\n",
    "    \"\"\"Computes Cohen's effect size for two groups.\n",
    "    \n",
    "    group1: Series or DataFrame\n",
    "    group2: Series or DataFrame\n",
    "    \n",
    "    returns: float if the arguments are Series;\n",
    "             Series if the arguments are DataFrames\n",
    "    \"\"\"\n",
    "    diff = group1.mean() - group2.mean()\n",
    "\n",
    "    var1 = group1.var()\n",
    "    var2 = group2.var()\n",
    "    n1, n2 = len(group1), len(group2)\n",
    "\n",
    "    pooled_var = (n1 * var1 + n2 * var2) / (n1 + n2)\n",
    "    d = diff / np.sqrt(pooled_var)\n",
    "    return d"
   ]
  },
  {
   "cell_type": "code",
   "execution_count": 44,
   "metadata": {},
   "outputs": [
    {
     "data": {
      "text/plain": [
       "0.19209126898654794"
      ]
     },
     "execution_count": 44,
     "metadata": {},
     "output_type": "execute_result"
    }
   ],
   "source": [
    "CohenEffectSize(newer[\"MedInc\"], older[\"MedInc\"])"
   ]
  },
  {
   "cell_type": "markdown",
   "metadata": {},
   "source": [
    "#### Effect Size... Sizes\n",
    "\n",
    "Effect size values can be judged on a scale, the higher the number, the larger the difference. Or in \"effect\" terms - if we see a big effect size, that is an indication that whatever the differentiator between the two samples is (e.g. often something like one group took a drug, the other took a placebo) significant, or it had an effect. \n",
    "\n",
    "There aren't really exact cutoffs for \"big\" or \"small\" in effect size, a rough guideline is:\n",
    "<ul>\n",
    "<li> < 0.3 - small effect size. \n",
    "<li> 0.3 - 0.5 - medium effect size. \n",
    "<li> > 0.5 - large effect size\n",
    "</ul>\n",
    "\n",
    "Again, these cutoffs are not exact; we will look at determining if there is a significant difference in two samples in more depth in a few weeks. \n",
    "\n",
    "We can also visualize the effect sizes via a graph:\n",
    "\n",
    "![Effect Size](../images/effect_size_chart.jpg)"
   ]
  },
  {
   "cell_type": "markdown",
   "metadata": {},
   "source": [
    "## Exercise"
   ]
  }
 ],
 "metadata": {
  "kernelspec": {
   "display_name": "ml_2",
   "language": "python",
   "name": "python3"
  },
  "language_info": {
   "codemirror_mode": {
    "name": "ipython",
    "version": 3
   },
   "file_extension": ".py",
   "mimetype": "text/x-python",
   "name": "python",
   "nbconvert_exporter": "python",
   "pygments_lexer": "ipython3",
   "version": "3.10.9"
  }
 },
 "nbformat": 4,
 "nbformat_minor": 2
}
