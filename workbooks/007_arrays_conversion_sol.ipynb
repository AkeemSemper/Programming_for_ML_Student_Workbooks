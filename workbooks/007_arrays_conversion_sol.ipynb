{
 "cells": [
  {
   "cell_type": "code",
   "execution_count": 94,
   "metadata": {},
   "outputs": [],
   "source": [
    "IN_COLAB = 'google.colab' in str(get_ipython())\n",
    "if IN_COLAB:\n",
    "    !pip install plotly\n",
    "    !wget https://raw.githubusercontent.com/AkeemSemper/ML_for_Non_DS_Students/main/data/bodyfat.csv\n",
    "    BODYFAT_FILE = 'bodyfat.csv'\n",
    "else:\n",
    "    BODYFAT_FILE = '../data/bodyfat.csv'\n",
    "    \n",
    "import pandas as pd\n",
    "import numpy as np\n",
    "import plotly.graph_objects as go"
   ]
  },
  {
   "cell_type": "markdown",
   "metadata": {},
   "source": [
    "# Arrays\n",
    "\n",
    "## Introduction\n",
    "\n",
    "![Arrays](../images/arrays.jpg \"Arrays\")\n",
    "\n",
    "An array is a collection of items that is stored contiguously in memory. Arrays have a few limitations to be aware of:\n",
    "<ul>\n",
    "<li>Arrays are fixed in size, meaning that you need to specify the number of elements your array will hold ahead of time.</li>\n",
    "<li>Arrays can only hold items of the same type.</li>\n",
    "</ul>\n",
    "\n",
    "Arrays also have some benefits, and in data science we have some common reasons to use arrays despite their limitations:\n",
    "<ul>\n",
    "<li>Arrays are more memory efficient than lists.</li>\n",
    "<li>Arrays are faster than lists for some operations.</li>\n",
    "</ul>\n",
    "\n",
    "Arrays main benefit comes from the way they are created inside the memory of the computer, invisible to us. Arrays are created to be a certain size, and are carved out of one block of memory. Something like a list can grow and shrink, so it needs to be able to move around in memory. This is also why an array can't be expanded, it is literally one slice of memory that is set aside when the array is created. Because arrays are setup like this in memory, and because they only hold one type of data, they can be much faster than a list or a dataframe for certain operations.\n",
    "\n",
    "![Array vs List](../images/array_vs_list.png \"Array vs List\")\n",
    "\n",
    "For example, if we want to take the sum of all items in a list, we'd need to grab the first item, add it to the total, find where the next item is in memory, grab it, add it to the total, and so on. To do the same operation in an array, we'd find where the first item is, then move the exact same amount \"down\" the array to each item - no checking or thinking required. For data science, where we often have lots of data and perform lots of calculations on that data, this can be a huge benefit.\n",
    "\n",
    "There are several reasons for the speed improvement. The first is due to this memory arrangement, all the items are literally next to each other. Another is the fixed structure of an array means that assumptions can be made in performing operations on them, allowing for optimizations in the logic. One example of this is called vectorization - a technique that allows an operation to be done on every item of an array (like a loop), but in parallel - something that isn't doable with a list. Finally, the fact that arrays can only hold one type of data means that the computer doesn't need to check what type of data it's dealing with, it already knows."
   ]
  },
  {
   "cell_type": "markdown",
   "metadata": {},
   "source": [
    "## Creating Arrays\n",
    "\n",
    "Arrays can be created from data that we have in some other data structure, or they can be created from scratch. Remember, an array needs to be one size, it can't grow, so we need to make it the right size from the start. "
   ]
  },
  {
   "cell_type": "code",
   "execution_count": 95,
   "metadata": {},
   "outputs": [
    {
     "name": "stdout",
     "output_type": "stream",
     "text": [
      "[ 1  2  3  4  5  6  7  8  9 10]\n",
      "1\n",
      "<class 'numpy.ndarray'>\n"
     ]
    }
   ],
   "source": [
    "# Array from list\n",
    "arr = np.array([1, 2, 3, 4, 5, 6, 7, 8, 9, 10])\n",
    "print(arr)\n",
    "print(arr[0])\n",
    "print(type(arr))"
   ]
  },
  {
   "cell_type": "code",
   "execution_count": 96,
   "metadata": {},
   "outputs": [
    {
     "name": "stdout",
     "output_type": "stream",
     "text": [
      "[1.6 1.2 0.5 1.8 0.2 0.2 1.9 2.4 0.2 1.5]\n",
      "1.6\n",
      "<class 'numpy.ndarray'>\n"
     ]
    }
   ],
   "source": [
    "# Empty array of size 10\n",
    "arr = np.empty(10)\n",
    "print(arr)\n",
    "print(arr[0])\n",
    "print(type(arr))\n"
   ]
  },
  {
   "cell_type": "code",
   "execution_count": 97,
   "metadata": {},
   "outputs": [
    {
     "name": "stdout",
     "output_type": "stream",
     "text": [
      "[3 3 3 3 3 3 3 3 3 3]\n",
      "3\n",
      "<class 'numpy.ndarray'>\n"
     ]
    }
   ],
   "source": [
    "# Pre-filled array of size 10\n",
    "arr = np.full(10, 3)\n",
    "print(arr)\n",
    "print(arr[0])\n",
    "print(type(arr))"
   ]
  },
  {
   "cell_type": "code",
   "execution_count": 98,
   "metadata": {},
   "outputs": [
    {
     "name": "stdout",
     "output_type": "stream",
     "text": [
      "[0. 0. 0. 0. 0. 0. 0. 0. 0. 0.]\n",
      "0.0\n",
      "<class 'numpy.ndarray'>\n"
     ]
    }
   ],
   "source": [
    "# Array of zeros of size 10\n",
    "# there's also np.ones to make anb array of ones\n",
    "arr = np.zeros(10)\n",
    "print(arr)\n",
    "print(arr[0])\n",
    "print(type(arr))"
   ]
  },
  {
   "cell_type": "markdown",
   "metadata": {},
   "source": [
    "## Exercise\n",
    "\n",
    "Create an array from a list of numbers 20 through 57, then use np.sum() to find the sum of all the numbers in the array, and np.std() to find the standard deviation of <i>the final 25 numbers</i> in the array. Slicing is the same as in lists, or scroll down a bit for some slice examples.\n",
    "\n",
    "<b>Note:</b> range() may be helpful in creating the numbers 20 through 57."
   ]
  },
  {
   "cell_type": "code",
<<<<<<< HEAD
   "execution_count": 121,
=======
   "execution_count": 99,
>>>>>>> 61c691721362a3fd6d7b80e45fdddc106e767e67
   "metadata": {},
   "outputs": [
    {
     "name": "stdout",
     "output_type": "stream",
     "text": [
      "1463 3.7416573867739413\n"
     ]
    }
   ],
   "source": [
    "# Create an array from a list of numbers 20 through 57\n",
    "#arr = np.array(list(range(20, 58)))\n",
    "arr = np.array(range(20, 58))\n",
    "\n",
    "# Find the sum of all the numbers in the array\n",
    "sum_of_numbers = np.sum(arr)\n",
    "std_dev = np.std(arr[:-25])\n",
    "\n",
    "print(sum_of_numbers, std_dev)\n"
   ]
  },
  {
   "cell_type": "markdown",
   "metadata": {},
   "source": [
    "## Multi-Dimensional Arrays\n",
    "\n",
    "An array can be a one dimensional structure, like a list, but we can also have arrays that are 2D like a DataFrame, 3D, or more. These are called multi-dimensional arrays. We can think of a 2D array as a list of lists, where each list is the same length. A 3D array is a list of lists of lists, where each list is the same length, and so on.\n",
    "\n",
    "In data science, we often use a 2D array to hold our data. We take the data from a dataframe, and load it into a 2D array to do the actual model training step, as arrays are faster and more memory efficient than dataframes. \n",
    "\n",
    "![Multi-Dimensional Array](../images/multidim_array.webp \"Multi-Dimensional Array\")\n",
    "\n",
    "### Indexing Multi-Dimensional Arrays\n",
    "\n",
    "Indexing a multi-dimensional array is similar to indexing a list of lists. We use the same square bracket notation, but we need to specify the index for each dimension. For example, if we have a 2D array, we'd use two indices, one for the row and one for the column. If we have a 3D array, we'd use three indices, one for the row, one for the column, and one for the \"depth\".\n",
    "\n",
    "#### Check - Is It An Array?\n",
    "\n",
    "When using multi-dimensional arrays, it's easy to make a mistake in terms of what item you're accessing. One common issue is that you might not be clear if a value is a scalar (regular number), or an array with one item in it. Mistakes like this can bring lots of confusion and bugs to your code. This type of error is something that can become more likely in certain domains, such as dealing with video data, where you might have a 3D array of frames, and each frame is a 2D array of pixels.\n",
    "\n",
    "To avoid this, you can use the `ndim` attribute of an array to check how many dimensions it has. If it's 0, it's a scalar, if it's 1, it's a 1D array, and so on. You can also check the type() to see if you have a value or an array. "
   ]
  },
  {
   "cell_type": "code",
   "execution_count": 100,
   "metadata": {},
   "outputs": [
    {
     "name": "stdout",
     "output_type": "stream",
     "text": [
      "[[[[ 1  2]\n",
      "   [ 3  4]]\n",
      "\n",
      "  [[ 5  6]\n",
      "   [ 7  8]]]\n",
      "\n",
      "\n",
      " [[[ 9 10]\n",
      "   [11 12]]\n",
      "\n",
      "  [[13 14]\n",
      "   [15 16]]]]\n",
      "1\n",
      "2\n"
     ]
    }
   ],
   "source": [
    "import numpy as np\n",
    "\n",
    "# Create a 4D numpy array\n",
    "arr = np.array([[[[1, 2], [3, 4]], [[5, 6], [7, 8]]],\n",
    "                [[[9, 10], [11, 12]], [[13, 14], [15, 16]]]])\n",
    "print(arr)\n",
    "print(arr[0, 0, 0, 0])  # 1\n",
    "print(arr[0, 0, 0, 1])  # 2\n"
   ]
  },
  {
   "cell_type": "markdown",
   "metadata": {},
   "source": [
    "### Array Shape\n",
    "\n",
    "Multi-dimensional arrays have a shape attribute that tells us how many items are in each dimension. For example, a 2D array with 3 rows and 4 columns would have a shape of (3, 4). A 3D array with 3 rows, 4 columns, and 2 \"depths\" would have a shape of (3, 4, 2).\n",
    "\n",
    "Checking shape is quite common for us in data science. We often need to have data that \"fits\" a specific shape and we also commonly have actions that make assumptions on the structure of the data. In short, we need to maintain the correct sizes, and potentially convert between different shapes."
   ]
  },
  {
   "cell_type": "code",
   "execution_count": 101,
   "metadata": {},
   "outputs": [
    {
     "name": "stdout",
     "output_type": "stream",
     "text": [
      "[[[ 1  2  3]\n",
      "  [ 4  5  6]\n",
      "  [ 7  8  9]]\n",
      "\n",
      " [[10 11 12]\n",
      "  [13 14 15]\n",
      "  [16 17 18]]\n",
      "\n",
      " [[19 20 21]\n",
      "  [22 23 24]\n",
      "  [25 26 27]]]\n"
     ]
    }
   ],
   "source": [
    "# Create a 3D numpy array\n",
    "#arr3d = np.random.randint(1, 10, (3, 3, 3))\n",
    "arr3d = np.arange(1, 28).reshape((3, 3, 3))\n",
    "print(arr3d)\n"
   ]
  },
  {
   "cell_type": "code",
   "execution_count": 102,
   "metadata": {},
   "outputs": [
    {
     "name": "stdout",
     "output_type": "stream",
     "text": [
      "21\n"
     ]
    }
   ],
   "source": [
    "print(arr3d[2,0,2])"
   ]
  },
  {
   "cell_type": "markdown",
   "metadata": {},
   "source": [
    "### Slices and Sub-Arrays\n",
    "\n",
    "As with lists, we can slice a segment of an array to create a new array. This also applies in multiple dimensions, though the logic is a little different. For example, if we have a 2D array, we can slice a row, a column, or a sub-array. If we have a 3D array, we can slice a \"depth\", a row, a column, or a sub-array.\n",
    "\n",
    "The colon operator, \":\" is used to specify a range of items to slice. For example, `arr[1:3]` would give us the items at index 1 and 2. We can also use the colon operator to specify a range of items for each dimension. For example, `arr[1:3, 2:4]` would give us the items at row 1 and 2, and column 2 and 3."
   ]
  },
  {
   "cell_type": "code",
   "execution_count": 103,
   "metadata": {},
   "outputs": [
    {
     "name": "stdout",
     "output_type": "stream",
     "text": [
      "[4 5 6]\n",
      "[3 6 9]\n",
      "[[4 5]\n",
      " [7 8]]\n"
     ]
    }
   ],
   "source": [
    "# Create a 2D array\n",
    "arr_2d = np.array([[1, 2, 3], [4, 5, 6], [7, 8, 9]])\n",
    "\n",
    "# Slice a row\n",
    "row_slice = arr_2d[1, :]\n",
    "print(row_slice)  # Output: [4 5 6]\n",
    "\n",
    "# Slice a column\n",
    "col_slice = arr_2d[:, 2]\n",
    "print(col_slice)  # Output: [3 6 9]\n",
    "\n",
    "# Slice a subarray\n",
    "subarray_slice = arr_2d[1:3, 0:2]\n",
    "print(subarray_slice)  # Output: [[4 5]\n",
    "                       #          [7 8]]\n"
   ]
  },
  {
   "cell_type": "markdown",
   "metadata": {},
   "source": [
    "#### Note on Array Manipulation\n",
    "\n",
    "In the long run, we'll need to do some manipulation of arrays to really be able to tackle every challenge we'll encounter. It isn't something that we need to really be experts at to get started. The complex and elaborate slicing and reshaping is fairly rare, at least in the beginning. Most array rearranging is done with a 2D dataframe being made into 2 2D arrays, possibly reshaping those arrays, and potentially capturing outputs from an array. We don't need to do lots of multi-dimensional array manipulations early in data science, and when it does come up, it is normally in the context of some specific task - creating neural networks, manipulating images, processing video, etc... where we'd have a specific goal we are working towards. We don't need to be able to randomly reshape and reform data for no reason, so if the simple manipulations in 2D (and maybe some concept of 3D) are clear, we're in a good place."
   ]
  },
  {
   "cell_type": "markdown",
   "metadata": {},
   "source": [
    "This thing allows you to visualize the shape of an array. Each item will show one spot in the array, ordered by it's 'spot' in line. \n",
    "\n",
    "<b>This might not be all that helpful. If it isn't, just ignore it. I added it in hopes that it would help to manipulate the array, but it not be super helpful.</b>"
   ]
  },
  {
   "cell_type": "code",
   "execution_count": 104,
   "metadata": {},
   "outputs": [
    {
     "data": {
      "application/vnd.plotly.v1+json": {
       "config": {
        "plotlyServerURL": "https://plot.ly"
       },
       "data": [
        {
         "hoverinfo": "text",
         "marker": {
          "color": [
           1,
           2,
           3,
           4,
           5,
           6,
           7,
           8,
           9,
           10,
           11,
           12,
           13,
           14,
           15,
           16,
           17,
           18,
           19,
           20,
           21,
           22,
           23,
           24,
           25,
           26,
           27
          ],
          "colorscale": [
           [
            0,
            "#440154"
           ],
           [
            0.1111111111111111,
            "#482878"
           ],
           [
            0.2222222222222222,
            "#3e4989"
           ],
           [
            0.3333333333333333,
            "#31688e"
           ],
           [
            0.4444444444444444,
            "#26828e"
           ],
           [
            0.5555555555555556,
            "#1f9e89"
           ],
           [
            0.6666666666666666,
            "#35b779"
           ],
           [
            0.7777777777777778,
            "#6ece58"
           ],
           [
            0.8888888888888888,
            "#b5de2b"
           ],
           [
            1,
            "#fde725"
           ]
          ],
          "opacity": 0.8,
          "size": 10
         },
         "mode": "text",
         "text": [
          1,
          2,
          3,
          4,
          5,
          6,
          7,
          8,
          9,
          10,
          11,
          12,
          13,
          14,
          15,
          16,
          17,
          18,
          19,
          20,
          21,
          22,
          23,
          24,
          25,
          26,
          27
         ],
         "type": "scatter3d",
         "x": [
          0,
          0,
          0,
          1,
          1,
          1,
          2,
          2,
          2,
          0,
          0,
          0,
          1,
          1,
          1,
          2,
          2,
          2,
          0,
          0,
          0,
          1,
          1,
          1,
          2,
          2,
          2
         ],
         "y": [
          0,
          0,
          0,
          0,
          0,
          0,
          0,
          0,
          0,
          1,
          1,
          1,
          1,
          1,
          1,
          1,
          1,
          1,
          2,
          2,
          2,
          2,
          2,
          2,
          2,
          2,
          2
         ],
         "z": [
          0,
          1,
          2,
          0,
          1,
          2,
          0,
          1,
          2,
          0,
          1,
          2,
          0,
          1,
          2,
          0,
          1,
          2,
          0,
          1,
          2,
          0,
          1,
          2,
          0,
          1,
          2
         ]
        }
       ],
       "layout": {
        "height": 500,
        "scene": {
         "camera": {
          "center": {
           "x": 0,
           "y": 0,
           "z": 0
          },
          "eye": {
           "x": 1.25,
           "y": 1.25,
           "z": 1.25
          },
          "up": {
           "x": 0,
           "y": 0,
           "z": 1
          }
         },
         "xaxis": {
          "showticklabels": false
         },
         "yaxis": {
          "showticklabels": false
         },
         "zaxis": {
          "showticklabels": false
         }
        },
        "template": {
         "data": {
          "bar": [
           {
            "error_x": {
             "color": "#2a3f5f"
            },
            "error_y": {
             "color": "#2a3f5f"
            },
            "marker": {
             "line": {
              "color": "#E5ECF6",
              "width": 0.5
             },
             "pattern": {
              "fillmode": "overlay",
              "size": 10,
              "solidity": 0.2
             }
            },
            "type": "bar"
           }
          ],
          "barpolar": [
           {
            "marker": {
             "line": {
              "color": "#E5ECF6",
              "width": 0.5
             },
             "pattern": {
              "fillmode": "overlay",
              "size": 10,
              "solidity": 0.2
             }
            },
            "type": "barpolar"
           }
          ],
          "carpet": [
           {
            "aaxis": {
             "endlinecolor": "#2a3f5f",
             "gridcolor": "white",
             "linecolor": "white",
             "minorgridcolor": "white",
             "startlinecolor": "#2a3f5f"
            },
            "baxis": {
             "endlinecolor": "#2a3f5f",
             "gridcolor": "white",
             "linecolor": "white",
             "minorgridcolor": "white",
             "startlinecolor": "#2a3f5f"
            },
            "type": "carpet"
           }
          ],
          "choropleth": [
           {
            "colorbar": {
             "outlinewidth": 0,
             "ticks": ""
            },
            "type": "choropleth"
           }
          ],
          "contour": [
           {
            "colorbar": {
             "outlinewidth": 0,
             "ticks": ""
            },
            "colorscale": [
             [
              0,
              "#0d0887"
             ],
             [
              0.1111111111111111,
              "#46039f"
             ],
             [
              0.2222222222222222,
              "#7201a8"
             ],
             [
              0.3333333333333333,
              "#9c179e"
             ],
             [
              0.4444444444444444,
              "#bd3786"
             ],
             [
              0.5555555555555556,
              "#d8576b"
             ],
             [
              0.6666666666666666,
              "#ed7953"
             ],
             [
              0.7777777777777778,
              "#fb9f3a"
             ],
             [
              0.8888888888888888,
              "#fdca26"
             ],
             [
              1,
              "#f0f921"
             ]
            ],
            "type": "contour"
           }
          ],
          "contourcarpet": [
           {
            "colorbar": {
             "outlinewidth": 0,
             "ticks": ""
            },
            "type": "contourcarpet"
           }
          ],
          "heatmap": [
           {
            "colorbar": {
             "outlinewidth": 0,
             "ticks": ""
            },
            "colorscale": [
             [
              0,
              "#0d0887"
             ],
             [
              0.1111111111111111,
              "#46039f"
             ],
             [
              0.2222222222222222,
              "#7201a8"
             ],
             [
              0.3333333333333333,
              "#9c179e"
             ],
             [
              0.4444444444444444,
              "#bd3786"
             ],
             [
              0.5555555555555556,
              "#d8576b"
             ],
             [
              0.6666666666666666,
              "#ed7953"
             ],
             [
              0.7777777777777778,
              "#fb9f3a"
             ],
             [
              0.8888888888888888,
              "#fdca26"
             ],
             [
              1,
              "#f0f921"
             ]
            ],
            "type": "heatmap"
           }
          ],
          "heatmapgl": [
           {
            "colorbar": {
             "outlinewidth": 0,
             "ticks": ""
            },
            "colorscale": [
             [
              0,
              "#0d0887"
             ],
             [
              0.1111111111111111,
              "#46039f"
             ],
             [
              0.2222222222222222,
              "#7201a8"
             ],
             [
              0.3333333333333333,
              "#9c179e"
             ],
             [
              0.4444444444444444,
              "#bd3786"
             ],
             [
              0.5555555555555556,
              "#d8576b"
             ],
             [
              0.6666666666666666,
              "#ed7953"
             ],
             [
              0.7777777777777778,
              "#fb9f3a"
             ],
             [
              0.8888888888888888,
              "#fdca26"
             ],
             [
              1,
              "#f0f921"
             ]
            ],
            "type": "heatmapgl"
           }
          ],
          "histogram": [
           {
            "marker": {
             "pattern": {
              "fillmode": "overlay",
              "size": 10,
              "solidity": 0.2
             }
            },
            "type": "histogram"
           }
          ],
          "histogram2d": [
           {
            "colorbar": {
             "outlinewidth": 0,
             "ticks": ""
            },
            "colorscale": [
             [
              0,
              "#0d0887"
             ],
             [
              0.1111111111111111,
              "#46039f"
             ],
             [
              0.2222222222222222,
              "#7201a8"
             ],
             [
              0.3333333333333333,
              "#9c179e"
             ],
             [
              0.4444444444444444,
              "#bd3786"
             ],
             [
              0.5555555555555556,
              "#d8576b"
             ],
             [
              0.6666666666666666,
              "#ed7953"
             ],
             [
              0.7777777777777778,
              "#fb9f3a"
             ],
             [
              0.8888888888888888,
              "#fdca26"
             ],
             [
              1,
              "#f0f921"
             ]
            ],
            "type": "histogram2d"
           }
          ],
          "histogram2dcontour": [
           {
            "colorbar": {
             "outlinewidth": 0,
             "ticks": ""
            },
            "colorscale": [
             [
              0,
              "#0d0887"
             ],
             [
              0.1111111111111111,
              "#46039f"
             ],
             [
              0.2222222222222222,
              "#7201a8"
             ],
             [
              0.3333333333333333,
              "#9c179e"
             ],
             [
              0.4444444444444444,
              "#bd3786"
             ],
             [
              0.5555555555555556,
              "#d8576b"
             ],
             [
              0.6666666666666666,
              "#ed7953"
             ],
             [
              0.7777777777777778,
              "#fb9f3a"
             ],
             [
              0.8888888888888888,
              "#fdca26"
             ],
             [
              1,
              "#f0f921"
             ]
            ],
            "type": "histogram2dcontour"
           }
          ],
          "mesh3d": [
           {
            "colorbar": {
             "outlinewidth": 0,
             "ticks": ""
            },
            "type": "mesh3d"
           }
          ],
          "parcoords": [
           {
            "line": {
             "colorbar": {
              "outlinewidth": 0,
              "ticks": ""
             }
            },
            "type": "parcoords"
           }
          ],
          "pie": [
           {
            "automargin": true,
            "type": "pie"
           }
          ],
          "scatter": [
           {
            "fillpattern": {
             "fillmode": "overlay",
             "size": 10,
             "solidity": 0.2
            },
            "type": "scatter"
           }
          ],
          "scatter3d": [
           {
            "line": {
             "colorbar": {
              "outlinewidth": 0,
              "ticks": ""
             }
            },
            "marker": {
             "colorbar": {
              "outlinewidth": 0,
              "ticks": ""
             }
            },
            "type": "scatter3d"
           }
          ],
          "scattercarpet": [
           {
            "marker": {
             "colorbar": {
              "outlinewidth": 0,
              "ticks": ""
             }
            },
            "type": "scattercarpet"
           }
          ],
          "scattergeo": [
           {
            "marker": {
             "colorbar": {
              "outlinewidth": 0,
              "ticks": ""
             }
            },
            "type": "scattergeo"
           }
          ],
          "scattergl": [
           {
            "marker": {
             "colorbar": {
              "outlinewidth": 0,
              "ticks": ""
             }
            },
            "type": "scattergl"
           }
          ],
          "scattermapbox": [
           {
            "marker": {
             "colorbar": {
              "outlinewidth": 0,
              "ticks": ""
             }
            },
            "type": "scattermapbox"
           }
          ],
          "scatterpolar": [
           {
            "marker": {
             "colorbar": {
              "outlinewidth": 0,
              "ticks": ""
             }
            },
            "type": "scatterpolar"
           }
          ],
          "scatterpolargl": [
           {
            "marker": {
             "colorbar": {
              "outlinewidth": 0,
              "ticks": ""
             }
            },
            "type": "scatterpolargl"
           }
          ],
          "scatterternary": [
           {
            "marker": {
             "colorbar": {
              "outlinewidth": 0,
              "ticks": ""
             }
            },
            "type": "scatterternary"
           }
          ],
          "surface": [
           {
            "colorbar": {
             "outlinewidth": 0,
             "ticks": ""
            },
            "colorscale": [
             [
              0,
              "#0d0887"
             ],
             [
              0.1111111111111111,
              "#46039f"
             ],
             [
              0.2222222222222222,
              "#7201a8"
             ],
             [
              0.3333333333333333,
              "#9c179e"
             ],
             [
              0.4444444444444444,
              "#bd3786"
             ],
             [
              0.5555555555555556,
              "#d8576b"
             ],
             [
              0.6666666666666666,
              "#ed7953"
             ],
             [
              0.7777777777777778,
              "#fb9f3a"
             ],
             [
              0.8888888888888888,
              "#fdca26"
             ],
             [
              1,
              "#f0f921"
             ]
            ],
            "type": "surface"
           }
          ],
          "table": [
           {
            "cells": {
             "fill": {
              "color": "#EBF0F8"
             },
             "line": {
              "color": "white"
             }
            },
            "header": {
             "fill": {
              "color": "#C8D4E3"
             },
             "line": {
              "color": "white"
             }
            },
            "type": "table"
           }
          ]
         },
         "layout": {
          "annotationdefaults": {
           "arrowcolor": "#2a3f5f",
           "arrowhead": 0,
           "arrowwidth": 1
          },
          "autotypenumbers": "strict",
          "coloraxis": {
           "colorbar": {
            "outlinewidth": 0,
            "ticks": ""
           }
          },
          "colorscale": {
           "diverging": [
            [
             0,
             "#8e0152"
            ],
            [
             0.1,
             "#c51b7d"
            ],
            [
             0.2,
             "#de77ae"
            ],
            [
             0.3,
             "#f1b6da"
            ],
            [
             0.4,
             "#fde0ef"
            ],
            [
             0.5,
             "#f7f7f7"
            ],
            [
             0.6,
             "#e6f5d0"
            ],
            [
             0.7,
             "#b8e186"
            ],
            [
             0.8,
             "#7fbc41"
            ],
            [
             0.9,
             "#4d9221"
            ],
            [
             1,
             "#276419"
            ]
           ],
           "sequential": [
            [
             0,
             "#0d0887"
            ],
            [
             0.1111111111111111,
             "#46039f"
            ],
            [
             0.2222222222222222,
             "#7201a8"
            ],
            [
             0.3333333333333333,
             "#9c179e"
            ],
            [
             0.4444444444444444,
             "#bd3786"
            ],
            [
             0.5555555555555556,
             "#d8576b"
            ],
            [
             0.6666666666666666,
             "#ed7953"
            ],
            [
             0.7777777777777778,
             "#fb9f3a"
            ],
            [
             0.8888888888888888,
             "#fdca26"
            ],
            [
             1,
             "#f0f921"
            ]
           ],
           "sequentialminus": [
            [
             0,
             "#0d0887"
            ],
            [
             0.1111111111111111,
             "#46039f"
            ],
            [
             0.2222222222222222,
             "#7201a8"
            ],
            [
             0.3333333333333333,
             "#9c179e"
            ],
            [
             0.4444444444444444,
             "#bd3786"
            ],
            [
             0.5555555555555556,
             "#d8576b"
            ],
            [
             0.6666666666666666,
             "#ed7953"
            ],
            [
             0.7777777777777778,
             "#fb9f3a"
            ],
            [
             0.8888888888888888,
             "#fdca26"
            ],
            [
             1,
             "#f0f921"
            ]
           ]
          },
          "colorway": [
           "#636efa",
           "#EF553B",
           "#00cc96",
           "#ab63fa",
           "#FFA15A",
           "#19d3f3",
           "#FF6692",
           "#B6E880",
           "#FF97FF",
           "#FECB52"
          ],
          "font": {
           "color": "#2a3f5f"
          },
          "geo": {
           "bgcolor": "white",
           "lakecolor": "white",
           "landcolor": "#E5ECF6",
           "showlakes": true,
           "showland": true,
           "subunitcolor": "white"
          },
          "hoverlabel": {
           "align": "left"
          },
          "hovermode": "closest",
          "mapbox": {
           "style": "light"
          },
          "paper_bgcolor": "white",
          "plot_bgcolor": "#E5ECF6",
          "polar": {
           "angularaxis": {
            "gridcolor": "white",
            "linecolor": "white",
            "ticks": ""
           },
           "bgcolor": "#E5ECF6",
           "radialaxis": {
            "gridcolor": "white",
            "linecolor": "white",
            "ticks": ""
           }
          },
          "scene": {
           "xaxis": {
            "backgroundcolor": "#E5ECF6",
            "gridcolor": "white",
            "gridwidth": 2,
            "linecolor": "white",
            "showbackground": true,
            "ticks": "",
            "zerolinecolor": "white"
           },
           "yaxis": {
            "backgroundcolor": "#E5ECF6",
            "gridcolor": "white",
            "gridwidth": 2,
            "linecolor": "white",
            "showbackground": true,
            "ticks": "",
            "zerolinecolor": "white"
           },
           "zaxis": {
            "backgroundcolor": "#E5ECF6",
            "gridcolor": "white",
            "gridwidth": 2,
            "linecolor": "white",
            "showbackground": true,
            "ticks": "",
            "zerolinecolor": "white"
           }
          },
          "shapedefaults": {
           "line": {
            "color": "#2a3f5f"
           }
          },
          "ternary": {
           "aaxis": {
            "gridcolor": "white",
            "linecolor": "white",
            "ticks": ""
           },
           "baxis": {
            "gridcolor": "white",
            "linecolor": "white",
            "ticks": ""
           },
           "bgcolor": "#E5ECF6",
           "caxis": {
            "gridcolor": "white",
            "linecolor": "white",
            "ticks": ""
           }
          },
          "title": {
           "x": 0.05
          },
          "xaxis": {
           "automargin": true,
           "gridcolor": "white",
           "linecolor": "white",
           "ticks": "",
           "title": {
            "standoff": 15
           },
           "zerolinecolor": "white",
           "zerolinewidth": 2
          },
          "yaxis": {
           "automargin": true,
           "gridcolor": "white",
           "linecolor": "white",
           "ticks": "",
           "title": {
            "standoff": 15
           },
           "zerolinecolor": "white",
           "zerolinewidth": 2
          }
         }
        },
        "title": {
         "text": "Multi-Dimensional Array"
        },
        "width": 700
       }
      }
     },
     "metadata": {},
     "output_type": "display_data"
    }
   ],
   "source": [
    "# Create a 3x3x3 array with numbers in order from 1\n",
    "arr = np.arange(1, 28).reshape((3, 3, 3))\n",
    "\n",
    "# Create a meshgrid for each dimension\n",
    "x, y, z = np.meshgrid(np.arange(arr.shape[0]), np.arange(arr.shape[1]), np.arange(arr.shape[2]))\n",
    "\n",
    "# Create a scatter plot\n",
    "fig = go.Figure(data=go.Scatter3d(\n",
    "    x=x.flatten(),\n",
    "    y=y.flatten(),\n",
    "    z=z.flatten(),\n",
    "    mode='text',\n",
    "    marker=dict(\n",
    "        size=10,\n",
    "        color=arr.flatten(),\n",
    "        colorscale='Viridis',\n",
    "        opacity=0.8\n",
    "    ),\n",
    "    text = arr.flatten(),\n",
    "    hoverinfo='text'\n",
    "))\n",
    "\n",
    "# Set the layout\n",
    "fig.update_layout(\n",
    "    scene=dict(\n",
    "        xaxis=dict(showticklabels=False),\n",
    "        yaxis=dict(showticklabels=False),\n",
    "        zaxis=dict(showticklabels=False),\n",
    "        camera=dict(\n",
    "            up=dict(x=0, y=0, z=1),\n",
    "            center=dict(x=0, y=0, z=0),\n",
    "            eye=dict(x=1.25, y=1.25, z=1.25)\n",
    "        )\n",
    "    ),\n",
    "    title='Multi-Dimensional Array',\n",
    "    width=700,\n",
    "    height=500\n",
    ")\n",
    "\n",
    "# Show the plot\n",
    "fig.show()\n"
   ]
  },
  {
   "cell_type": "markdown",
   "metadata": {},
   "source": [
    "### Reshaping Arrays\n",
    "\n",
    "We can change the shape of an array using the reshape() method. This method takes a tuple that specifies the new shape of the array. The new shape must have the same number of items as the old shape.  For example, if we have a 2D array with 3 rows and 4 columns, we could reshape it to a 4x3 array, or a 6x2 array, or a 12x1 array, but we couldn't reshape it to a 2x2 array, as that would change the number of items in the array.\n",
    "\n",
    "One thing to keep in mind is that the reshaping is determinative, meaning things will go into the same into the same spot every time. We generally don't really pay attention to which item is in which spot, but it is important that things don't get mixed up. Basically if we reshape something \"square\" into something \"flat\", when we do the reverse, we'll get the same thing back.\n",
    "\n",
    "This is common in beginning data science when we are preparing datasets and when processing images. \n",
    "\n",
    "![Reshape Array](../images/reshape_array.png \"Reshape Array\")\n",
    "\n",
    "#### -1 Reshape\n",
    "\n",
    "One common shortcut to reshaping is to use -1 as one of the dimensions. This tells the reshape method to figure out what the size of that dimension should be. For example, if we have a 2D array with 3 rows and 4 columns, we could reshape it to a 4x3 array by using the tuple (4, -1). The -1 tells the reshape method to figure out that the second dimension should be 3. For us, this most likely means that we know the specified number of columns that our data should have, and we let it figure out the number of rows.\n",
    "\n",
    "#### Flatten\n",
    "\n",
    "Flatten is another shortcut, it makes an array of any shape, well... flat - a 1D array. This is somewhat common as there are many operations that want the data to be in 1 dimension. Flatten is effectively the same as reshape(-1), or reshape into a 1D array with as many items in it as needed. \n",
    "\n",
    "#### Reversing an Array\n",
    "\n",
    "There is a shortcut to reverse an array that you may commonly see, [::-1]. This is a slice that starts at the end of the array and goes to the beginning, effectively reversing the array. \n",
    "\n",
    "#### Other Reshaping\n",
    "\n",
    "There are lots of other things that can be used to manipulate and reshape arrays, these actions are really common in certain domains, so there are shortcuts for all kinds of common operations. For the most part, as long as we understand the basics of array shape and manipulating them, we can generally look up the details of the others as needed. "
   ]
  },
  {
   "cell_type": "code",
   "execution_count": 105,
   "metadata": {},
   "outputs": [
    {
     "name": "stdout",
     "output_type": "stream",
     "text": [
      "[[1 2 3]\n",
      " [4 5 6]] \n",
      "\n",
      "[1 2 3 4 5 6] \n",
      "\n",
      "[[[1 2 3]]\n",
      "\n",
      " [[4 5 6]]] \n",
      "\n",
      "[[10 11 12]\n",
      " [ 7  8  9]\n",
      " [ 4  5  6]\n",
      " [ 1  2  3]] \n",
      "\n"
     ]
    }
   ],
   "source": [
    "# Reshaping Arrays\n",
    "\n",
    "# Example 1: Reshape a 1D array into a 2D array\n",
    "arr1 = np.array([1, 2, 3, 4, 5, 6])\n",
    "reshaped_arr1 = arr1.reshape(2, 3)\n",
    "print(reshaped_arr1, \"\\n\")\n",
    "\n",
    "# Example 2: Reshape a 2D array into a 1D array\n",
    "arr2 = np.array([[1, 2, 3], [4, 5, 6]])\n",
    "reshaped_arr2 = arr2.reshape(-1)\n",
    "print(reshaped_arr2, \"\\n\")\n",
    "\n",
    "# Example 3: Reshape a 2D array into a 3D array\n",
    "arr3 = np.array([[1, 2, 3], [4, 5, 6]])\n",
    "reshaped_arr3 = arr3.reshape(2, 1, 3)\n",
    "print(reshaped_arr3, \"\\n\")\n",
    "\n",
    "# Example 4: Reshape a 3D array into a 2D array, reverse it. \n",
    "arr4 = np.array([[[1, 2, 3], [4, 5, 6]], [[7, 8, 9], [10, 11, 12]]])\n",
    "reshaped_arr4 = arr4.reshape(4, 3)\n",
    "reshaped_arr4 = reshaped_arr4[::-1]\n",
    "print(reshaped_arr4, \"\\n\")\n"
   ]
  },
  {
   "cell_type": "markdown",
   "metadata": {},
   "source": [
    "## Array Usability\n",
    "\n",
    "Arrays are generally less user-friendly than lists or dataframes due to the additional restrictions. However, we can still leverage many of the other functions and operations we're used to with other data structures with arrays. \n",
    "\n",
    "### Iterable\n",
    "\n",
    "Arrays are iterable, meaning we can loop through them with a for loop exactly like we would with a list. While loops are the same as well, unless the array is multi-dimensional, in which case we'd need to use nested loops or some other method to access all the items. In the example below, note that if we are going through a multi-dimensional array, we need to use nested loops to access all the items."
   ]
  },
  {
   "cell_type": "code",
   "execution_count": 106,
   "metadata": {},
   "outputs": [
    {
     "name": "stdout",
     "output_type": "stream",
     "text": [
      "[[1 2 3]\n",
      " [4 5 6]]\n",
      "<class 'numpy.ndarray'>\n",
      "[[ 7  8  9]\n",
      " [10 11 12]]\n",
      "<class 'numpy.ndarray'>\n",
      "\n",
      "\n"
     ]
    }
   ],
   "source": [
    "for i in arr4:\n",
    "    print(f\"{i}\")\n",
    "    print(type(i))\n",
    "print(\"\\n\")\n"
   ]
  },
  {
   "cell_type": "code",
   "execution_count": 107,
   "metadata": {},
   "outputs": [
    {
     "name": "stdout",
     "output_type": "stream",
     "text": [
      "[1 2 3]\n",
      "<class 'numpy.ndarray'>\n",
      "[4 5 6]\n",
      "<class 'numpy.ndarray'>\n",
      "[7 8 9]\n",
      "<class 'numpy.ndarray'>\n",
      "[10 11 12]\n",
      "<class 'numpy.ndarray'>\n"
     ]
    }
   ],
   "source": [
    "for i in arr4:\n",
    "    for j in i:\n",
    "        print(f\"{j}\")\n",
    "        print(type(j))"
   ]
  },
  {
   "cell_type": "code",
   "execution_count": 108,
   "metadata": {},
   "outputs": [
    {
     "name": "stdout",
     "output_type": "stream",
     "text": [
      "1\n",
      "<class 'numpy.int64'>\n",
      "2\n",
      "<class 'numpy.int64'>\n",
      "3\n",
      "<class 'numpy.int64'>\n",
      "4\n",
      "<class 'numpy.int64'>\n",
      "5\n",
      "<class 'numpy.int64'>\n",
      "6\n",
      "<class 'numpy.int64'>\n",
      "7\n",
      "<class 'numpy.int64'>\n",
      "8\n",
      "<class 'numpy.int64'>\n",
      "9\n",
      "<class 'numpy.int64'>\n",
      "10\n",
      "<class 'numpy.int64'>\n",
      "11\n",
      "<class 'numpy.int64'>\n",
      "12\n",
      "<class 'numpy.int64'>\n"
     ]
    }
   ],
   "source": [
    "for i in arr4:\n",
    "    for n in i:\n",
    "        for q in n:\n",
    "            print(f\"{q}\")\n",
    "            print(type(q))"
   ]
  },
  {
   "cell_type": "code",
   "execution_count": 109,
   "metadata": {},
   "outputs": [
    {
     "name": "stdout",
     "output_type": "stream",
     "text": [
      "1\n",
      "<class 'numpy.int64'>\n",
      "2\n",
      "<class 'numpy.int64'>\n",
      "3\n",
      "<class 'numpy.int64'>\n",
      "4\n",
      "<class 'numpy.int64'>\n",
      "5\n",
      "<class 'numpy.int64'>\n",
      "6\n",
      "<class 'numpy.int64'>\n",
      "7\n",
      "<class 'numpy.int64'>\n",
      "8\n",
      "<class 'numpy.int64'>\n",
      "9\n",
      "<class 'numpy.int64'>\n",
      "10\n",
      "<class 'numpy.int64'>\n",
      "11\n",
      "<class 'numpy.int64'>\n",
      "12\n",
      "<class 'numpy.int64'>\n"
     ]
    }
   ],
   "source": [
    "for i in arr4.flatten():\n",
    "    print(f\"{i}\")\n",
    "    print(type(i))"
   ]
  },
  {
   "cell_type": "markdown",
   "metadata": {},
   "source": [
    "## Exercise - Practice Reshaping"
   ]
  },
  {
   "cell_type": "code",
   "execution_count": 110,
   "metadata": {},
   "outputs": [
    {
     "name": "stdout",
     "output_type": "stream",
     "text": [
      "1.0\n",
      "[[2 3]\n",
      " [4 5]]\n",
      "\n",
      "\n",
      "[1 2 3 4 5 6]\n",
      "\n",
      "\n",
      "[[ 1  2  3]\n",
      " [ 4  5  6]\n",
      " [ 7  8  9]\n",
      " [10 11 12]]\n"
     ]
    }
   ],
   "source": [
    "# Reshape the given 1D array into a 2d array that is 2x2\n",
    "# Take only the middle 4 numbers\n",
    "# Put it in reverse order\n",
    "arr1 = np.array([1, 2, 3, 4, 5, 6])\n",
    "len_offset = (len(arr1)-4) / 2\n",
    "start_offset = int(len_offset)\n",
    "end_offset = int(-1* len_offset)\n",
    "arr1 = arr1[start_offset:end_offset]\n",
    "print(len_offset)\n",
    "reshaped_arr1 = arr1.reshape(2,2)\n",
    "print(reshaped_arr1)\n",
    "print(\"\\n\")\n",
    "\n",
    "# Reshape the given 2D array into a 1D array\n",
    "arr2 = np.array([[1, 2, 3], [4, 5, 6]])\n",
    "reshaped_arr2 = arr2.flatten()\n",
    "print(reshaped_arr2)\n",
    "print(\"\\n\")\n",
    "\n",
    "# Reshape the given 3D array into a 2D array that is 4x3\n",
    "arr3 = np.array([[[1, 2, 3], [4, 5, 6]], [[7, 8, 9], [10, 11, 12]]])\n",
    "reshaped_arr3 = arr3.reshape(4, 3)\n",
    "print(reshaped_arr3)\n"
   ]
  },
  {
   "cell_type": "markdown",
   "metadata": {},
   "source": [
    "## Arrays from Dataframes\n",
    "\n",
    "The most common thing that we need to use arrays for is for things that we are inputting or capturing from the libraries we use to create predictive models. Most of these functions assume that data will be in an array format, and the things they return will be in an array format. Doing data manipulation - filtering out outliers, removing errors, etc... - is generally easier as our data is still in a dataframe. When we are done the preparation, and are ready to give the data to the algorithm, we normally convert it to an array so the processing can happen quickly and efficiently. Creating an array from a dataframe is very simple, so this process is normally pretty painless.\n",
    "\n",
    "Note that when we create arrays, the data type of the array is determined by the data type of the items in the dataframe, meaning we need that data to be in a consistent format. In most cases, we'll use some data preprocessing step to convert all of our data into numbers before we convert it to an array.\n",
    "\n",
    "<b>Manipulating arrays can be annoying, especially if they're new to you, so we normally do all of our \"human-involved\" work with data in a dataframe, then convert it to an array when we're ready to do the actual model training.</b>"
   ]
  },
  {
   "cell_type": "code",
   "execution_count": 111,
   "metadata": {},
   "outputs": [
    {
     "data": {
      "text/html": [
       "<div>\n",
       "<style scoped>\n",
       "    .dataframe tbody tr th:only-of-type {\n",
       "        vertical-align: middle;\n",
       "    }\n",
       "\n",
       "    .dataframe tbody tr th {\n",
       "        vertical-align: top;\n",
       "    }\n",
       "\n",
       "    .dataframe thead th {\n",
       "        text-align: right;\n",
       "    }\n",
       "</style>\n",
       "<table border=\"1\" class=\"dataframe\">\n",
       "  <thead>\n",
       "    <tr style=\"text-align: right;\">\n",
       "      <th></th>\n",
       "      <th>sepal length (cm)</th>\n",
       "      <th>sepal width (cm)</th>\n",
       "      <th>petal length (cm)</th>\n",
       "      <th>petal width (cm)</th>\n",
       "      <th>target</th>\n",
       "    </tr>\n",
       "  </thead>\n",
       "  <tbody>\n",
       "    <tr>\n",
       "      <th>12</th>\n",
       "      <td>4.8</td>\n",
       "      <td>3.0</td>\n",
       "      <td>1.4</td>\n",
       "      <td>0.1</td>\n",
       "      <td>0</td>\n",
       "    </tr>\n",
       "    <tr>\n",
       "      <th>69</th>\n",
       "      <td>5.6</td>\n",
       "      <td>2.5</td>\n",
       "      <td>3.9</td>\n",
       "      <td>1.1</td>\n",
       "      <td>1</td>\n",
       "    </tr>\n",
       "    <tr>\n",
       "      <th>47</th>\n",
       "      <td>4.6</td>\n",
       "      <td>3.2</td>\n",
       "      <td>1.4</td>\n",
       "      <td>0.2</td>\n",
       "      <td>0</td>\n",
       "    </tr>\n",
       "    <tr>\n",
       "      <th>21</th>\n",
       "      <td>5.1</td>\n",
       "      <td>3.7</td>\n",
       "      <td>1.5</td>\n",
       "      <td>0.4</td>\n",
       "      <td>0</td>\n",
       "    </tr>\n",
       "    <tr>\n",
       "      <th>116</th>\n",
       "      <td>6.5</td>\n",
       "      <td>3.0</td>\n",
       "      <td>5.5</td>\n",
       "      <td>1.8</td>\n",
       "      <td>2</td>\n",
       "    </tr>\n",
       "    <tr>\n",
       "      <th>100</th>\n",
       "      <td>6.3</td>\n",
       "      <td>3.3</td>\n",
       "      <td>6.0</td>\n",
       "      <td>2.5</td>\n",
       "      <td>2</td>\n",
       "    </tr>\n",
       "    <tr>\n",
       "      <th>122</th>\n",
       "      <td>7.7</td>\n",
       "      <td>2.8</td>\n",
       "      <td>6.7</td>\n",
       "      <td>2.0</td>\n",
       "      <td>2</td>\n",
       "    </tr>\n",
       "    <tr>\n",
       "      <th>114</th>\n",
       "      <td>5.8</td>\n",
       "      <td>2.8</td>\n",
       "      <td>5.1</td>\n",
       "      <td>2.4</td>\n",
       "      <td>2</td>\n",
       "    </tr>\n",
       "    <tr>\n",
       "      <th>33</th>\n",
       "      <td>5.5</td>\n",
       "      <td>4.2</td>\n",
       "      <td>1.4</td>\n",
       "      <td>0.2</td>\n",
       "      <td>0</td>\n",
       "    </tr>\n",
       "    <tr>\n",
       "      <th>75</th>\n",
       "      <td>6.6</td>\n",
       "      <td>3.0</td>\n",
       "      <td>4.4</td>\n",
       "      <td>1.4</td>\n",
       "      <td>1</td>\n",
       "    </tr>\n",
       "  </tbody>\n",
       "</table>\n",
       "</div>"
      ],
      "text/plain": [
       "     sepal length (cm)  sepal width (cm)  petal length (cm)  petal width (cm)  \\\n",
       "12                 4.8               3.0                1.4               0.1   \n",
       "69                 5.6               2.5                3.9               1.1   \n",
       "47                 4.6               3.2                1.4               0.2   \n",
       "21                 5.1               3.7                1.5               0.4   \n",
       "116                6.5               3.0                5.5               1.8   \n",
       "100                6.3               3.3                6.0               2.5   \n",
       "122                7.7               2.8                6.7               2.0   \n",
       "114                5.8               2.8                5.1               2.4   \n",
       "33                 5.5               4.2                1.4               0.2   \n",
       "75                 6.6               3.0                4.4               1.4   \n",
       "\n",
       "     target  \n",
       "12        0  \n",
       "69        1  \n",
       "47        0  \n",
       "21        0  \n",
       "116       2  \n",
       "100       2  \n",
       "122       2  \n",
       "114       2  \n",
       "33        0  \n",
       "75        1  "
      ]
     },
     "execution_count": 111,
     "metadata": {},
     "output_type": "execute_result"
    }
   ],
   "source": [
    "from sklearn.datasets import load_iris\n",
    "import pandas as pd\n",
    "# Load the iris dataset\n",
    "iris = load_iris()\n",
    "\n",
    "# Create a dataframe from the iris dataset\n",
    "df_iris = pd.DataFrame(data=iris.data, columns=iris.feature_names)\n",
    "df_iris['target'] = iris.target\n",
    "# Display the head of the dataframe\n",
    "df_iris.sample(10)\n"
   ]
  },
  {
   "cell_type": "markdown",
   "metadata": {},
   "source": [
    "Suppose we want to create separate arrays for each different target value, and use those arrays to get the counts of each target value. "
   ]
  },
  {
   "cell_type": "code",
   "execution_count": 112,
   "metadata": {},
   "outputs": [
    {
     "name": "stdout",
     "output_type": "stream",
     "text": [
      "Count of 0: 50  Count of 1: 50  Count of 2: 50\n",
      "Shape of 0: (50, 5)  Shape of 1: (50, 5)  Shape of 2: (50, 5)\n"
     ]
    }
   ],
   "source": [
    "np_0 = np.array(df_iris[df_iris['target'] == 0])\n",
    "np_1 = np.array(df_iris[df_iris['target'] == 1])\n",
    "np_2 = np.array(df_iris[df_iris['target'] == 2])\n",
    "\n",
    "\n",
    "print(\"Count of 0:\", len(np_0), \" Count of 1:\", len(np_1), \" Count of 2:\", len(np_2))\n",
    "print(\"Shape of 0:\", np_0.shape, \" Shape of 1:\", np_1.shape, \" Shape of 2:\", np_2.shape)"
   ]
  },
  {
   "cell_type": "markdown",
   "metadata": {},
   "source": [
    "We can also manipulate the arrays a bit - once we make them arrays, the easy column-based operations we're used to with dataframes are no longer available. \n",
    "\n",
    "If we flatten then \"unflatten\" the array we can see that we can manipulate things around a bit, and keep the original order. This is important, and we tend to rely on it frequently. The array_equal function checks arrays for equality and returns True if two arrays have the same shape and elements, False otherwise."
   ]
  },
  {
   "cell_type": "code",
   "execution_count": 113,
   "metadata": {},
   "outputs": [
    {
     "name": "stdout",
     "output_type": "stream",
     "text": [
      "(5, 50)\n",
      "(50, 5)\n",
      "True\n"
     ]
    }
   ],
   "source": [
    "np_0_manipulated = np_0.reshape(5, -1)\n",
    "print(np_0_manipulated.shape)\n",
    "np_0_manipulated = np_0_manipulated.reshape(-1, 5)\n",
    "print(np_0_manipulated.shape)\n",
    "print(np.array_equal(np_0, np_0_manipulated))"
   ]
  },
  {
   "cell_type": "markdown",
   "metadata": {},
   "source": [
    "One thing to be attentive of is the shape of things that are only one-dimensional. Most notably, we can have a 1D array with a shape of (3,) or a 2D array with a shape of (3, 1). These are different, and can cause issues if we're not careful."
   ]
  },
  {
   "cell_type": "code",
   "execution_count": 114,
   "metadata": {},
   "outputs": [
    {
     "name": "stdout",
     "output_type": "stream",
     "text": [
      "(150,)\n",
      "[0 0 0 0 0 0 0 0 0 0 0 0 0 0 0 0 0 0 0 0 0 0 0 0 0 0 0 0 0 0 0 0 0 0 0 0 0\n",
      " 0 0 0 0 0 0 0 0 0 0 0 0 0 1 1 1 1 1 1 1 1 1 1 1 1 1 1 1 1 1 1 1 1 1 1 1 1\n",
      " 1 1 1 1 1 1 1 1 1 1 1 1 1 1 1 1 1 1 1 1 1 1 1 1 1 1 2 2 2 2 2 2 2 2 2 2 2\n",
      " 2 2 2 2 2 2 2 2 2 2 2 2 2 2 2 2 2 2 2 2 2 2 2 2 2 2 2 2 2 2 2 2 2 2 2 2 2\n",
      " 2 2]\n"
     ]
    }
   ],
   "source": [
    "targets_iris = np.array(df_iris['target'])\n",
    "print(targets_iris.shape)\n",
    "print(targets_iris)"
   ]
  },
  {
   "cell_type": "markdown",
   "metadata": {},
   "source": [
    "Above, we have a 1D array - so there is no \"one column\", it is effectively like a list in terms of its shape. \n",
    "\n",
    "Below we can make a 2D array with one column - note that now the data is \"tall\", as we have an actual shape to the data - 150 rows and 1 column. This specific action of reshaping is very common in preparing data for machine learning models."
   ]
  },
  {
   "cell_type": "code",
   "execution_count": 115,
   "metadata": {},
   "outputs": [
    {
     "name": "stdout",
     "output_type": "stream",
     "text": [
      "(150, 1)\n",
      "[[0]\n",
      " [0]\n",
      " [0]\n",
      " [0]\n",
      " [0]\n",
      " [0]\n",
      " [0]\n",
      " [0]\n",
      " [0]\n",
      " [0]\n",
      " [0]\n",
      " [0]\n",
      " [0]\n",
      " [0]\n",
      " [0]\n",
      " [0]\n",
      " [0]\n",
      " [0]\n",
      " [0]\n",
      " [0]\n",
      " [0]\n",
      " [0]\n",
      " [0]\n",
      " [0]\n",
      " [0]\n",
      " [0]\n",
      " [0]\n",
      " [0]\n",
      " [0]\n",
      " [0]\n",
      " [0]\n",
      " [0]\n",
      " [0]\n",
      " [0]\n",
      " [0]\n",
      " [0]\n",
      " [0]\n",
      " [0]\n",
      " [0]\n",
      " [0]\n",
      " [0]\n",
      " [0]\n",
      " [0]\n",
      " [0]\n",
      " [0]\n",
      " [0]\n",
      " [0]\n",
      " [0]\n",
      " [0]\n",
      " [0]\n",
      " [1]\n",
      " [1]\n",
      " [1]\n",
      " [1]\n",
      " [1]\n",
      " [1]\n",
      " [1]\n",
      " [1]\n",
      " [1]\n",
      " [1]\n",
      " [1]\n",
      " [1]\n",
      " [1]\n",
      " [1]\n",
      " [1]\n",
      " [1]\n",
      " [1]\n",
      " [1]\n",
      " [1]\n",
      " [1]\n",
      " [1]\n",
      " [1]\n",
      " [1]\n",
      " [1]\n",
      " [1]\n",
      " [1]\n",
      " [1]\n",
      " [1]\n",
      " [1]\n",
      " [1]\n",
      " [1]\n",
      " [1]\n",
      " [1]\n",
      " [1]\n",
      " [1]\n",
      " [1]\n",
      " [1]\n",
      " [1]\n",
      " [1]\n",
      " [1]\n",
      " [1]\n",
      " [1]\n",
      " [1]\n",
      " [1]\n",
      " [1]\n",
      " [1]\n",
      " [1]\n",
      " [1]\n",
      " [1]\n",
      " [1]\n",
      " [2]\n",
      " [2]\n",
      " [2]\n",
      " [2]\n",
      " [2]\n",
      " [2]\n",
      " [2]\n",
      " [2]\n",
      " [2]\n",
      " [2]\n",
      " [2]\n",
      " [2]\n",
      " [2]\n",
      " [2]\n",
      " [2]\n",
      " [2]\n",
      " [2]\n",
      " [2]\n",
      " [2]\n",
      " [2]\n",
      " [2]\n",
      " [2]\n",
      " [2]\n",
      " [2]\n",
      " [2]\n",
      " [2]\n",
      " [2]\n",
      " [2]\n",
      " [2]\n",
      " [2]\n",
      " [2]\n",
      " [2]\n",
      " [2]\n",
      " [2]\n",
      " [2]\n",
      " [2]\n",
      " [2]\n",
      " [2]\n",
      " [2]\n",
      " [2]\n",
      " [2]\n",
      " [2]\n",
      " [2]\n",
      " [2]\n",
      " [2]\n",
      " [2]\n",
      " [2]\n",
      " [2]\n",
      " [2]\n",
      " [2]]\n"
     ]
    }
   ],
   "source": [
    "targets_iris = targets_iris.reshape(-1, 1)\n",
    "print(targets_iris.shape)\n",
    "print(targets_iris)"
   ]
  },
  {
   "cell_type": "markdown",
   "metadata": {},
   "source": [
    "## Exercise\n",
    "\n",
    "Split the data into two arrays:\n",
    "<ul>\n",
    "<li>One array for the features, named X</li>\n",
    "    <ul>\n",
    "    <li>The shape should be 252 rows x 14 columns</li>\n",
    "    </ul>\n",
    "<li>One array for the target, named y</li>\n",
    "    <ul>\n",
    "    <li>The shape should be 252 rows x 1 column</li>\n",
    "    <li>This may be a little tricky - think of how to check it</li>\n",
    "    </ul>\n",
    "</ul>\n",
    "\n",
    "<b>Note:</b> depending on how you do this, adding an argument of \"axis=1\" might be helpful somewhere.\n",
    "\n",
    "If you're done that, create a function to split both of the arrays \"horizontally\" into two arrays each - label one with a suffix of _test, and the other with a suffix of _train. So there will be an X and y \"test\", and an X and y \"train\". This split will have a few details though:\n",
    "<ul>\n",
    "<li> Each of the \"trains\" and the \"tests\" should have the same rows as the original X and y arrays. I.e. if rows 2, 14, and 97 are in the X_train array, they should also be in the y_train array.</li>\n",
    "<li> The \"train\" arrays should have 70% of the rows of the original arrays</li>\n",
    "<li> The \"test\" arrays should have 30% of the rows of the original arrays</li>\n",
    "<li> The split should be randomized - you can start by doing a \"dumb\" slice of 70/30, but the end goal should be that each row is randomly distributed between the \"train\" and \"test\" arrays</li>\n",
    "<li> The function should return the four arrays - X_train, X_test, y_train, y_test</li>\n",
    "</ul>"
   ]
  },
  {
   "cell_type": "code",
   "execution_count": 116,
   "metadata": {},
   "outputs": [
    {
     "data": {
      "text/html": [
       "<div>\n",
       "<style scoped>\n",
       "    .dataframe tbody tr th:only-of-type {\n",
       "        vertical-align: middle;\n",
       "    }\n",
       "\n",
       "    .dataframe tbody tr th {\n",
       "        vertical-align: top;\n",
       "    }\n",
       "\n",
       "    .dataframe thead th {\n",
       "        text-align: right;\n",
       "    }\n",
       "</style>\n",
       "<table border=\"1\" class=\"dataframe\">\n",
       "  <thead>\n",
       "    <tr style=\"text-align: right;\">\n",
       "      <th></th>\n",
       "      <th>Density</th>\n",
       "      <th>BodyFat</th>\n",
       "      <th>Age</th>\n",
       "      <th>Weight</th>\n",
       "      <th>Height</th>\n",
       "      <th>Neck</th>\n",
       "      <th>Chest</th>\n",
       "      <th>Abdomen</th>\n",
       "      <th>Hip</th>\n",
       "      <th>Thigh</th>\n",
       "      <th>Knee</th>\n",
       "      <th>Ankle</th>\n",
       "      <th>Biceps</th>\n",
       "      <th>Forearm</th>\n",
       "      <th>Wrist</th>\n",
       "    </tr>\n",
       "  </thead>\n",
       "  <tbody>\n",
       "    <tr>\n",
       "      <th>0</th>\n",
       "      <td>1.0708</td>\n",
       "      <td>12.3</td>\n",
       "      <td>23</td>\n",
       "      <td>154.25</td>\n",
       "      <td>67.75</td>\n",
       "      <td>36.2</td>\n",
       "      <td>93.1</td>\n",
       "      <td>85.2</td>\n",
       "      <td>94.5</td>\n",
       "      <td>59.0</td>\n",
       "      <td>37.3</td>\n",
       "      <td>21.9</td>\n",
       "      <td>32.0</td>\n",
       "      <td>27.4</td>\n",
       "      <td>17.1</td>\n",
       "    </tr>\n",
       "    <tr>\n",
       "      <th>1</th>\n",
       "      <td>1.0853</td>\n",
       "      <td>6.1</td>\n",
       "      <td>22</td>\n",
       "      <td>173.25</td>\n",
       "      <td>72.25</td>\n",
       "      <td>38.5</td>\n",
       "      <td>93.6</td>\n",
       "      <td>83.0</td>\n",
       "      <td>98.7</td>\n",
       "      <td>58.7</td>\n",
       "      <td>37.3</td>\n",
       "      <td>23.4</td>\n",
       "      <td>30.5</td>\n",
       "      <td>28.9</td>\n",
       "      <td>18.2</td>\n",
       "    </tr>\n",
       "    <tr>\n",
       "      <th>2</th>\n",
       "      <td>1.0414</td>\n",
       "      <td>25.3</td>\n",
       "      <td>22</td>\n",
       "      <td>154.00</td>\n",
       "      <td>66.25</td>\n",
       "      <td>34.0</td>\n",
       "      <td>95.8</td>\n",
       "      <td>87.9</td>\n",
       "      <td>99.2</td>\n",
       "      <td>59.6</td>\n",
       "      <td>38.9</td>\n",
       "      <td>24.0</td>\n",
       "      <td>28.8</td>\n",
       "      <td>25.2</td>\n",
       "      <td>16.6</td>\n",
       "    </tr>\n",
       "    <tr>\n",
       "      <th>3</th>\n",
       "      <td>1.0751</td>\n",
       "      <td>10.4</td>\n",
       "      <td>26</td>\n",
       "      <td>184.75</td>\n",
       "      <td>72.25</td>\n",
       "      <td>37.4</td>\n",
       "      <td>101.8</td>\n",
       "      <td>86.4</td>\n",
       "      <td>101.2</td>\n",
       "      <td>60.1</td>\n",
       "      <td>37.3</td>\n",
       "      <td>22.8</td>\n",
       "      <td>32.4</td>\n",
       "      <td>29.4</td>\n",
       "      <td>18.2</td>\n",
       "    </tr>\n",
       "    <tr>\n",
       "      <th>4</th>\n",
       "      <td>1.0340</td>\n",
       "      <td>28.7</td>\n",
       "      <td>24</td>\n",
       "      <td>184.25</td>\n",
       "      <td>71.25</td>\n",
       "      <td>34.4</td>\n",
       "      <td>97.3</td>\n",
       "      <td>100.0</td>\n",
       "      <td>101.9</td>\n",
       "      <td>63.2</td>\n",
       "      <td>42.2</td>\n",
       "      <td>24.0</td>\n",
       "      <td>32.2</td>\n",
       "      <td>27.7</td>\n",
       "      <td>17.7</td>\n",
       "    </tr>\n",
       "  </tbody>\n",
       "</table>\n",
       "</div>"
      ],
      "text/plain": [
       "   Density  BodyFat  Age  Weight  Height  Neck  Chest  Abdomen    Hip  Thigh  \\\n",
       "0   1.0708     12.3   23  154.25   67.75  36.2   93.1     85.2   94.5   59.0   \n",
       "1   1.0853      6.1   22  173.25   72.25  38.5   93.6     83.0   98.7   58.7   \n",
       "2   1.0414     25.3   22  154.00   66.25  34.0   95.8     87.9   99.2   59.6   \n",
       "3   1.0751     10.4   26  184.75   72.25  37.4  101.8     86.4  101.2   60.1   \n",
       "4   1.0340     28.7   24  184.25   71.25  34.4   97.3    100.0  101.9   63.2   \n",
       "\n",
       "   Knee  Ankle  Biceps  Forearm  Wrist  \n",
       "0  37.3   21.9    32.0     27.4   17.1  \n",
       "1  37.3   23.4    30.5     28.9   18.2  \n",
       "2  38.9   24.0    28.8     25.2   16.6  \n",
       "3  37.3   22.8    32.4     29.4   18.2  \n",
       "4  42.2   24.0    32.2     27.7   17.7  "
      ]
     },
     "execution_count": 116,
     "metadata": {},
     "output_type": "execute_result"
    }
   ],
   "source": [
    "\n",
    "df_ex = pd.read_csv(BODYFAT_FILE)\n",
    "df_ex.head()"
   ]
  },
  {
   "cell_type": "code",
   "execution_count": 117,
   "metadata": {},
   "outputs": [
    {
     "name": "stdout",
     "output_type": "stream",
     "text": [
      "(252, 14) (252, 1)\n"
     ]
    }
   ],
   "source": [
    "X = np.array(df_ex.drop(columns=('BodyFat')))\n",
    "y = np.array(df_ex['BodyFat']).reshape(-1, 1)\n",
    "\n",
    "print(X.shape, y.shape)"
   ]
  },
  {
   "cell_type": "markdown",
   "metadata": {},
   "source": [
    "#### Splitter Function\n",
    "\n",
    "Some notes/hints for this function:\n",
    "<ul>\n",
    "<li> You can use the random module to generate random numbers: np.random(). Look at the documentation for more... </li>\n",
    "<li> One of the key steps is to decide which rows go to which arrays - you'll need to take the same rows out of both the X and y arrays to go into the same \"train\" or \"test\" array. This means that you'll probably want to generate some type of \"list\" - based on this probability, these rows go to \"test\", these go to \"train\". I.e. the elements from each array in the same rows are \"tied\" to each other, they need to stay together. This is probably the biggest conceptual leap, but it is not long/complex. There are ways to get it, and we can Google a potential solution for this problem easily - think about the search term, what you want to do is likely something well documented already... </li>\n",
    "<li> You can use the shape attribute of the arrays to get the number of rows, and then use that to calculate the number of rows that should go into the \"train\" and \"test\" arrays. </li>\n",
    "<li> Once you have some \"list\" of what goes where, the final answer is just putting those rows into the correct arrays - either the \"train\" or \"test\" array pairs. </li>\n",
    "<li> You can solve the \"random selection of rows\" and the \"put into the correct array\" steps separately, and then combine them at the end. The \"put away\" part will work fine if you setup some dummy data for which row goes where, then if you fix that part, you can just add it in and the results will flow through. </li>\n",
    "</ul>\n",
    "\n",
    "The end result should be 4 arrays:\n",
    "<ul>\n",
    "<li>X_train - 70% of the rows of the original X array. 14 columns wide.</li>\n",
    "<li>y_train - 70% of the rows of the original y array, with the same rows as the X_train array. 1 column wide. </li>\n",
    "<li>X_test - 30% of the rows of the original X array. 14 columns wide.</li>\n",
    "<li>y_test - 30% of the rows of the original y array, with the same rows as the X_test array. 1 column wide. </li>\n",
    "</ul>"
   ]
  },
  {
   "cell_type": "code",
   "execution_count": 118,
   "metadata": {},
   "outputs": [],
   "source": [
    "import numpy as np\n",
    "\n",
    "def splitter(X, y, test_size=0.3):\n",
    "    # Calculate the number of test samples\n",
    "    test_rows = int(X.shape[0] * test_size)\n",
    "\n",
    "    # Generate a random permutation of the indices\n",
    "    indices = np.random.permutation(X.shape[0])\n",
    "    #print(indices)\n",
    "\n",
    "    # Split the indices into train and test\n",
    "    train_indices = indices[test_rows:]\n",
    "    test_indices = indices[:test_rows]\n",
    "\n",
    "    # Use the indices to split X and y into train and test\n",
    "    X_train = X[train_indices]\n",
    "    X_test = X[test_indices]\n",
    "    y_train = y[train_indices]\n",
    "    y_test = y[test_indices]\n",
    "\n",
    "    return X_train, X_test, y_train, y_test\n"
   ]
  },
  {
   "cell_type": "code",
   "execution_count": 119,
   "metadata": {},
   "outputs": [
    {
     "name": "stdout",
     "output_type": "stream",
     "text": [
      "(177, 14) (75, 14) (177, 1) (75, 1)\n"
     ]
    }
   ],
   "source": [
    "X_train, X_test, y_train, y_test = splitter(X, y, test_size=0.3)\n",
    "print(X_train.shape, X_test.shape, y_train.shape, y_test.shape)"
   ]
  }
 ],
 "metadata": {
  "kernelspec": {
   "display_name": "ml_2",
   "language": "python",
   "name": "python3"
  },
  "language_info": {
   "codemirror_mode": {
    "name": "ipython",
    "version": 3
   },
   "file_extension": ".py",
   "mimetype": "text/x-python",
   "name": "python",
   "nbconvert_exporter": "python",
   "pygments_lexer": "ipython3",
   "version": "3.10.9"
  }
 },
 "nbformat": 4,
 "nbformat_minor": 2
}
