{
 "cells": [
  {
   "cell_type": "code",
   "execution_count": 28,
   "metadata": {},
   "outputs": [
    {
     "name": "stdout",
     "output_type": "stream",
     "text": [
      "zsh:1: command not found: wget\n"
     ]
    }
   ],
   "source": [
    "import pandas as pd\n",
    "\n",
    "!wget -nc https://raw.githubusercontent.com/AkeemSemper/ML_for_Non_DS_Students/main/data/titanic_train.csv\n",
    "FILE_PATH = 'titanic_train.csv'"
   ]
  },
  {
   "cell_type": "markdown",
   "metadata": {},
   "source": [
    "# Practice and Review Problems\n",
    "\n",
    "Let's work through some practice exercises. Some of these will be simple, some a little more complex. For each problem, remember to tackle it systematically:\n",
    "<ul>\n",
    "<li> What is the problem asking for? (I.e. what is the end result you are doing/producing?) </li>\n",
    "<li> What are the inputs? (I.e. what do you have to get started?) </li>\n",
    "<li> These two steps basically define the start and end of a function that does what you need. </li>\n",
    "<li> What are the steps in between? Be sure to break the problem down into smaller steps. In words, not code. </li>\n",
    "<li> Walk through one execution in your head or on paper - are any steps missing, ambiguous, or actually made up of more steps and need more breaking down? </li>\n",
    "<li> Along the way, does that need any \"additons\" - new variables, pulling input from somewhere else, etc? </li>\n",
    "<li> Start the write the code, each step should translate into a line or two of code, since you have already broken it down. </li>\n",
    "<li> If you don't know how to do a step, it is now one specific thing, look for it in documentation or google \"python [thing you need to do]\" </li>\n",
    "<li> Place print statements throughout the code that print out the values of variables as they are being changed, so you can see what is happening, and check for correctness as you go. </li>\n",
    "<li> Test the code with a few different inputs to make sure it works. </li>\n",
    "<li> Bob's your uncle! </li>\n",
    "</ul>\n",
    "\n",
    "For logistics, feel free to chat in the chat, ask for breakout rooms, talk on the line, etc... Talking things out is useful. \n",
    "\n",
    "## Loading Data\n",
    "\n",
    "You might want to load some data to test, the !wget command above downloads a file from the data folder for this repository. There are many data sources in there, you can navigate through the files in the sidebar to the left by going to the URL: https://github.com/AkeemSemper/ML_for_Non_DS_Students/tree/main/data The URLs can be copied into that command to download the data - note that you need the <b>raw</b> URL - there's a raw button in the github interface to get to it after you click on a file name. Google \"github raw url\" for more info and details if you need. "
   ]
  },
  {
   "cell_type": "markdown",
   "metadata": {},
   "source": [
    "## Question 1\n",
    "\n",
    "Create a function that takes in:\n",
    "<ul>\n",
    "<li> A list of full names that can be in either of the formats: \"First Last\" or \"Last, First\" </li>\n",
    "</ul>\n",
    "\n",
    "The function should return:\n",
    "<ul>\n",
    "<li> A tuple containing four items: </li>\n",
    "    <ul>\n",
    "    <li> A list of the first names </li>\n",
    "    <li> A list of the last names </li>\n",
    "    <li> A list of the full names in the \"First Last\" format </li>\n",
    "    <li> A list of the full names in the \"Last, First\" format </li>\n",
    "    </ul>\n",
    "</ul>\n",
    "\n",
    "The order should be maintained for the lists. "
   ]
  },
  {
   "cell_type": "code",
   "execution_count": 41,
   "metadata": {},
   "outputs": [
    {
     "name": "stdout",
     "output_type": "stream",
     "text": [
      "(['left', 'right', 'left', 'right', 'left', 'right'], [1, 2, 3, 4, 5, 6], [7, 8, 9, 10, 11, 12], ['Wilson', 'Johnson', 'Smith', 'Doe', 'Timmons', 'Smith'])\n"
     ]
    }
   ],
   "source": [
    "list1 = [\"left\", \"right\", \"left\", \"right\", \"left\", \"right\"]\n",
    "list2 = [1,2,3,4,5,6]\n",
    "list3 = [7,8,9,10,11,12]\n",
    "list4 = [\"Wilson\", \"Johnson\", \"Smith\", \"Doe\", \"Timmons\", \"Smith\"]\n",
    "\n",
    "tuple_of_lists = (list1, list2, list3, list4)\n",
    "print(tuple_of_lists)"
   ]
  },
  {
   "cell_type": "code",
   "execution_count": 29,
   "metadata": {},
   "outputs": [],
   "source": [
    "sample_input_list = [\"John Smith\", \"Jane Doe\", \"Smith, Janice\", \"Doe, John\", \"Timmons, Tom\", \"Bob Johnson\"]"
   ]
  },
  {
   "cell_type": "code",
   "execution_count": 30,
   "metadata": {},
   "outputs": [],
   "source": [
    "# Start a list to hold each 'thing' we want to process\n",
    "# loop through all the names in teh input list, for each\n",
    "# decide on the name format\n",
    "# if it is a 'last, first' name, split it apart at the comma-space\n",
    "# if it is a 'first last' name, split it apart at the space\n",
    "# In either case those are the first and last names I need. \n",
    "\n",
    "# Add the first/last to each list. \n",
    "# for the full name ones, we need to combine the first and last correctly\n",
    "\n",
    "# Package the lists together\n",
    "\n",
    "def process_names(names):\n",
    "    first_names = []\n",
    "    last_names = []\n",
    "    full_names_first_last = []\n",
    "    full_names_last_first = []\n",
    "    \n",
    "    for name in names: #google - \"how to loop through a list in python\"\n",
    "        if ',' in name: # google - \"how to check if a string contains a character\n",
    "            last, first = name.split(', ') #google - \"how to split string on comma\"\n",
    "            #print(first, last, name) \n",
    "            first_names.append(first)\n",
    "            last_names.append(last)\n",
    "            full_names_first_last.append(first + ' ' + last)\n",
    "            full_names_last_first.append(name)\n",
    "        else:\n",
    "            first, last = name.split(' ')\n",
    "            #print(first, last, name)\n",
    "            first_names.append(first)\n",
    "            last_names.append(last)\n",
    "            full_names_first_last.append(name)\n",
    "            full_names_last_first.append(last + ', ' + first)\n",
    "    \n",
    "    return (first_names, last_names, full_names_first_last, full_names_last_first) #Google - \"make a tuple of several lists\"\n"
   ]
  },
  {
   "cell_type": "code",
   "execution_count": 31,
   "metadata": {},
   "outputs": [
    {
     "data": {
      "text/plain": [
       "(['John', 'Jane', 'Janice', 'John', 'Tom', 'Bob'],\n",
       " ['Smith', 'Doe', 'Smith', 'Doe', 'Timmons', 'Johnson'],\n",
       " ['John Smith',\n",
       "  'Jane Doe',\n",
       "  'Janice Smith',\n",
       "  'John Doe',\n",
       "  'Tom Timmons',\n",
       "  'Bob Johnson'],\n",
       " ['Smith, John',\n",
       "  'Doe, Jane',\n",
       "  'Smith, Janice',\n",
       "  'Doe, John',\n",
       "  'Timmons, Tom',\n",
       "  'Johnson, Bob'])"
      ]
     },
     "execution_count": 31,
     "metadata": {},
     "output_type": "execute_result"
    }
   ],
   "source": [
    "process_names(sample_input_list)"
   ]
  },
  {
   "cell_type": "markdown",
   "metadata": {},
   "source": [
    "## Question 2\n",
    "\n",
    "Create a function that takes in:\n",
    "<ul>\n",
    "<li> A dataframe </li>\n",
    "<li> A aggregation (i.e. sum, count, mean, median, standard deviation) </li>\n",
    "</ul>\n",
    "\n",
    "The function should print:\n",
    "<ul>\n",
    "<li> The aggregation of each <i>numeric</i>column in the dataframe </li>\n",
    "<li> The value counts of each <i>non-numeric</i> column in the dataframe </li>\n",
    "</ul>\n",
    "\n",
    "You will need to determine how to identify numeric and non-numeric columns, you can add additional arguments if you need/want (you could potentially make this automatic if the columns are not specified, and use what is provided if they are, but we haven't covered that yet - challenge problem!). Remember, this needs to be generic - so any dataframe should work, with any number/names of numeric and non-numeric columns. You'll also want to test this, so either pull in or create some data that allows you to test. If you're creating data, it is possible to automatically create random values, google that if needed. I personally would use some dataset for testing. "
   ]
  },
  {
   "cell_type": "code",
   "execution_count": 32,
   "metadata": {},
   "outputs": [],
   "source": [
    "# Code\n",
    "# define numeric things, somehow\n",
    "# define non-numeric things, somehow\n",
    "# create a list of numeric columns, and non-numeric columns\n",
    "# point to pause, as the rest is really simple. \n",
    "# manually define numer and non-numeric columns\n",
    "# test using those, then work on making it dynamic.\n",
    "\n",
    "# loop through each numeric column.\n",
    "# \"do\" the aggregation provided to that column. \n",
    "# print it\n",
    "\n",
    "# loop through each non-numeric column\n",
    "# get the value counts\n",
    "# print it\n",
    "\n",
    "def aggregate_dataframe(df, aggregation):\n",
    "    numeric_columns = df.select_dtypes(include='number').columns\n",
    "    non_numeric_columns = df.select_dtypes(exclude='number').columns\n",
    "    \n",
    "    if aggregation in ['sum', 'count', 'mean', 'median', 'std']:\n",
    "        print(\"Aggregation of numeric columns:\")\n",
    "        print(df[numeric_columns].agg(aggregation))\n",
    "    else:\n",
    "        print(\"Invalid aggregation method.\")\n",
    "    \n",
    "    print(\"\\nValue counts of non-numeric columns:\")\n",
    "    for column in non_numeric_columns:\n",
    "        print(df[column].value_counts())\n"
   ]
  },
  {
   "cell_type": "code",
   "execution_count": 43,
   "metadata": {},
   "outputs": [
    {
     "name": "stdout",
     "output_type": "stream",
     "text": [
      "<class 'pandas.core.frame.DataFrame'>\n",
      "RangeIndex: 891 entries, 0 to 890\n",
      "Data columns (total 7 columns):\n",
      " #   Column    Non-Null Count  Dtype  \n",
      "---  ------    --------------  -----  \n",
      " 0   Survived  891 non-null    int64  \n",
      " 1   Pclass    891 non-null    int64  \n",
      " 2   Age       714 non-null    float64\n",
      " 3   SibSp     891 non-null    int64  \n",
      " 4   Parch     891 non-null    int64  \n",
      " 5   Fare      891 non-null    float64\n",
      " 6   Embarked  889 non-null    object \n",
      "dtypes: float64(2), int64(4), object(1)\n",
      "memory usage: 48.9+ KB\n"
     ]
    }
   ],
   "source": [
    "# Code\n",
    "df = pd.read_csv(FILE_PATH)\n",
    "df_sample = df[['Survived', 'Pclass', 'Age', 'SibSp', 'Parch', 'Fare', \"Embarked\"]]\n",
    "numeric_columns = df_sample[\"Age\", \"SibSp\", \"Parch\", \"Fare\"]\n",
    "non_numeric_columns = df_sample[\"Survived\", \"Pclass\", \"Embarked\"]\n",
    "df_sample.info()"
   ]
  },
  {
   "cell_type": "code",
   "execution_count": null,
   "metadata": {},
   "outputs": [],
   "source": [
    "aggregate_dataframe(df_sample, 'mean')"
   ]
  },
  {
   "cell_type": "markdown",
   "metadata": {},
   "source": [
    "## Question 3\n",
    "\n",
    "Create a function that takes in:\n",
    "<ul>\n",
    "<li> A dataframe </li>\n",
    "<li> An operation - \"remove\", \"median\", \"mean\", \"mode\" </li>\n",
    "</ul>\n",
    "\n",
    "The function should return:\n",
    "<ul>\n",
    "<li> That data frame, with the operation performed on <b>any missing values</b> in the dataframe. </li>\n",
    "<li> The calculations should be done on a column by column basis. </li>\n",
    "<li> Think about what to do, logically, with categorical columns. </li>\n",
    "</ul>\n",
    "\n",
    "Again, you'll need some data to test. You may also want to generate some blank spaces in data that doesn't have much - this can be done randomly, and is a good interim step to search for and build. You can also look, on sites like Kaggle or Google Data Search, for datasets that have missing values. You can also upload a file into Colab then use it, Google \"upload file to colab\" for more step-by-step instructions."
   ]
  },
  {
   "cell_type": "code",
   "execution_count": 34,
   "metadata": {},
   "outputs": [],
   "source": [
    "# Code\n",
    "def handle_missing_values(df, operation):\n",
    "    if operation == \"remove\":\n",
    "        df = df.dropna()\n",
    "    elif operation == \"median\":\n",
    "        df = df.fillna(df.median())\n",
    "    elif operation == \"mean\":\n",
    "        df = df.fillna(df.mean())\n",
    "    elif operation == \"mode\":\n",
    "        df = df.fillna(df.mode().iloc[0])\n",
    "    else:\n",
    "        print(\"Invalid operation.\")\n",
    "    \n",
    "    return df"
   ]
  },
  {
   "cell_type": "markdown",
   "metadata": {},
   "source": [
    "## Question 4\n",
    "\n",
    "Create a function that takes in:\n",
    "<ul>\n",
    "<li> A list of strings </li>\n",
    "</ul>\n",
    "\n",
    "The function should return:\n",
    "<ul>\n",
    "<li> A list of the strings that are palindromes </li>\n",
    "</ul>"
   ]
  },
  {
   "cell_type": "code",
   "execution_count": 35,
   "metadata": {},
   "outputs": [],
   "source": [
    "# Code\n",
    "def find_palindromes(strings):\n",
    "    palindromes = []\n",
    "    for string in strings:\n",
    "        if string == string[::-1]:\n",
    "            palindromes.append(string)\n",
    "    return palindromes\n"
   ]
  },
  {
   "cell_type": "code",
   "execution_count": 36,
   "metadata": {},
   "outputs": [],
   "source": [
    "sample_list_palin = [\"radar\", \"madam\", \"hello\", \"world\", \"level\", \"python\", \"deified\", \"west\", \"east\", \"north\", \"south\"]"
   ]
  },
  {
   "cell_type": "code",
   "execution_count": 37,
   "metadata": {},
   "outputs": [
    {
     "data": {
      "text/plain": [
       "['radar', 'madam', 'level', 'deified']"
      ]
     },
     "execution_count": 37,
     "metadata": {},
     "output_type": "execute_result"
    }
   ],
   "source": [
    "find_palindromes(sample_list_palin)"
   ]
  },
  {
   "cell_type": "markdown",
   "metadata": {},
   "source": [
    "## Question 5\n",
    "\n",
    "Create a function that takes in:\n",
    "<ul>\n",
    "<li> A dataframe </li>\n",
    "<li> An \"outlier limit\" of standard deviations </li>\n",
    "<li> A \"count limit\" for categorical columns </li>\n",
    "</ul>\n",
    "\n",
    "The function should return:\n",
    "<ul>\n",
    "<li> A dataframe with the outliers removed - i.e. anything that is more than X standard deviations higher or lower than the mean is removed.</li>\n",
    "<li> The categorical columns that have less than X counts removed. </li>\n",
    "<li> The outliers should be removed on a column by column calculation basis. </li>\n",
    "</ul>\n",
    "\n",
    "This will need some data, either real or generated. If you find this easy, try to modify it to handle a list of specifications, so the user can provide the limits individually for each column."
   ]
  },
  {
   "cell_type": "code",
   "execution_count": 38,
   "metadata": {},
   "outputs": [],
   "source": [
    "import numpy as np\n",
    "# Code\n",
    "def remove_outliers(df, outlier_limit, count_limit):\n",
    "    # Remove outliers\n",
    "    numeric_columns = df.select_dtypes(include=np.number).columns\n",
    "    for column in numeric_columns:\n",
    "        mean = df[column].mean()\n",
    "        std = df[column].std()\n",
    "        lower_limit = mean - outlier_limit * std\n",
    "        upper_limit = mean + outlier_limit * std\n",
    "        df = df[(df[column] >= lower_limit) & (df[column] <= upper_limit)]\n",
    "    \n",
    "    # Remove categorical columns with count less than count_limit\n",
    "    categorical_columns = df.select_dtypes(exclude=np.number).columns\n",
    "    for column in categorical_columns:\n",
    "        counts = df[column].value_counts()\n",
    "        df = df[df[column].isin(counts[counts >= count_limit].index)]\n",
    "    \n",
    "    return df\n"
   ]
  },
  {
   "cell_type": "code",
   "execution_count": 39,
   "metadata": {},
   "outputs": [
    {
     "data": {
      "text/html": [
       "<div>\n",
       "<style scoped>\n",
       "    .dataframe tbody tr th:only-of-type {\n",
       "        vertical-align: middle;\n",
       "    }\n",
       "\n",
       "    .dataframe tbody tr th {\n",
       "        vertical-align: top;\n",
       "    }\n",
       "\n",
       "    .dataframe thead th {\n",
       "        text-align: right;\n",
       "    }\n",
       "</style>\n",
       "<table border=\"1\" class=\"dataframe\">\n",
       "  <thead>\n",
       "    <tr style=\"text-align: right;\">\n",
       "      <th></th>\n",
       "      <th>PassengerId</th>\n",
       "      <th>Survived</th>\n",
       "      <th>Pclass</th>\n",
       "      <th>Sex</th>\n",
       "      <th>Age</th>\n",
       "      <th>SibSp</th>\n",
       "      <th>Parch</th>\n",
       "      <th>Fare</th>\n",
       "      <th>Embarked</th>\n",
       "    </tr>\n",
       "  </thead>\n",
       "  <tbody>\n",
       "    <tr>\n",
       "      <th>0</th>\n",
       "      <td>1</td>\n",
       "      <td>0</td>\n",
       "      <td>3</td>\n",
       "      <td>male</td>\n",
       "      <td>22.0</td>\n",
       "      <td>1</td>\n",
       "      <td>0</td>\n",
       "      <td>7.2500</td>\n",
       "      <td>S</td>\n",
       "    </tr>\n",
       "    <tr>\n",
       "      <th>1</th>\n",
       "      <td>2</td>\n",
       "      <td>1</td>\n",
       "      <td>1</td>\n",
       "      <td>female</td>\n",
       "      <td>38.0</td>\n",
       "      <td>1</td>\n",
       "      <td>0</td>\n",
       "      <td>71.2833</td>\n",
       "      <td>C</td>\n",
       "    </tr>\n",
       "    <tr>\n",
       "      <th>2</th>\n",
       "      <td>3</td>\n",
       "      <td>1</td>\n",
       "      <td>3</td>\n",
       "      <td>female</td>\n",
       "      <td>26.0</td>\n",
       "      <td>0</td>\n",
       "      <td>0</td>\n",
       "      <td>7.9250</td>\n",
       "      <td>S</td>\n",
       "    </tr>\n",
       "    <tr>\n",
       "      <th>3</th>\n",
       "      <td>4</td>\n",
       "      <td>1</td>\n",
       "      <td>1</td>\n",
       "      <td>female</td>\n",
       "      <td>35.0</td>\n",
       "      <td>1</td>\n",
       "      <td>0</td>\n",
       "      <td>53.1000</td>\n",
       "      <td>S</td>\n",
       "    </tr>\n",
       "    <tr>\n",
       "      <th>4</th>\n",
       "      <td>5</td>\n",
       "      <td>0</td>\n",
       "      <td>3</td>\n",
       "      <td>male</td>\n",
       "      <td>35.0</td>\n",
       "      <td>0</td>\n",
       "      <td>0</td>\n",
       "      <td>8.0500</td>\n",
       "      <td>S</td>\n",
       "    </tr>\n",
       "    <tr>\n",
       "      <th>...</th>\n",
       "      <td>...</td>\n",
       "      <td>...</td>\n",
       "      <td>...</td>\n",
       "      <td>...</td>\n",
       "      <td>...</td>\n",
       "      <td>...</td>\n",
       "      <td>...</td>\n",
       "      <td>...</td>\n",
       "      <td>...</td>\n",
       "    </tr>\n",
       "    <tr>\n",
       "      <th>884</th>\n",
       "      <td>885</td>\n",
       "      <td>0</td>\n",
       "      <td>3</td>\n",
       "      <td>male</td>\n",
       "      <td>25.0</td>\n",
       "      <td>0</td>\n",
       "      <td>0</td>\n",
       "      <td>7.0500</td>\n",
       "      <td>S</td>\n",
       "    </tr>\n",
       "    <tr>\n",
       "      <th>886</th>\n",
       "      <td>887</td>\n",
       "      <td>0</td>\n",
       "      <td>2</td>\n",
       "      <td>male</td>\n",
       "      <td>27.0</td>\n",
       "      <td>0</td>\n",
       "      <td>0</td>\n",
       "      <td>13.0000</td>\n",
       "      <td>S</td>\n",
       "    </tr>\n",
       "    <tr>\n",
       "      <th>887</th>\n",
       "      <td>888</td>\n",
       "      <td>1</td>\n",
       "      <td>1</td>\n",
       "      <td>female</td>\n",
       "      <td>19.0</td>\n",
       "      <td>0</td>\n",
       "      <td>0</td>\n",
       "      <td>30.0000</td>\n",
       "      <td>S</td>\n",
       "    </tr>\n",
       "    <tr>\n",
       "      <th>889</th>\n",
       "      <td>890</td>\n",
       "      <td>1</td>\n",
       "      <td>1</td>\n",
       "      <td>male</td>\n",
       "      <td>26.0</td>\n",
       "      <td>0</td>\n",
       "      <td>0</td>\n",
       "      <td>30.0000</td>\n",
       "      <td>C</td>\n",
       "    </tr>\n",
       "    <tr>\n",
       "      <th>890</th>\n",
       "      <td>891</td>\n",
       "      <td>0</td>\n",
       "      <td>3</td>\n",
       "      <td>male</td>\n",
       "      <td>32.0</td>\n",
       "      <td>0</td>\n",
       "      <td>0</td>\n",
       "      <td>7.7500</td>\n",
       "      <td>Q</td>\n",
       "    </tr>\n",
       "  </tbody>\n",
       "</table>\n",
       "<p>655 rows × 9 columns</p>\n",
       "</div>"
      ],
      "text/plain": [
       "     PassengerId  Survived  Pclass     Sex   Age  SibSp  Parch     Fare  \\\n",
       "0              1         0       3    male  22.0      1      0   7.2500   \n",
       "1              2         1       1  female  38.0      1      0  71.2833   \n",
       "2              3         1       3  female  26.0      0      0   7.9250   \n",
       "3              4         1       1  female  35.0      1      0  53.1000   \n",
       "4              5         0       3    male  35.0      0      0   8.0500   \n",
       "..           ...       ...     ...     ...   ...    ...    ...      ...   \n",
       "884          885         0       3    male  25.0      0      0   7.0500   \n",
       "886          887         0       2    male  27.0      0      0  13.0000   \n",
       "887          888         1       1  female  19.0      0      0  30.0000   \n",
       "889          890         1       1    male  26.0      0      0  30.0000   \n",
       "890          891         0       3    male  32.0      0      0   7.7500   \n",
       "\n",
       "    Embarked  \n",
       "0          S  \n",
       "1          C  \n",
       "2          S  \n",
       "3          S  \n",
       "4          S  \n",
       "..       ...  \n",
       "884        S  \n",
       "886        S  \n",
       "887        S  \n",
       "889        C  \n",
       "890        Q  \n",
       "\n",
       "[655 rows x 9 columns]"
      ]
     },
     "execution_count": 39,
     "metadata": {},
     "output_type": "execute_result"
    }
   ],
   "source": [
    "df2 = pd.read_csv(FILE_PATH)\n",
    "df2 = df2.drop(columns=['Name', 'Ticket', 'Cabin'])\n",
    "remove_outliers(df2, 3, 5)"
   ]
  }
 ],
 "metadata": {
  "kernelspec": {
   "display_name": "ml_2",
   "language": "python",
   "name": "python3"
  },
  "language_info": {
   "codemirror_mode": {
    "name": "ipython",
    "version": 3
   },
   "file_extension": ".py",
   "mimetype": "text/x-python",
   "name": "python",
   "nbconvert_exporter": "python",
   "pygments_lexer": "ipython3",
   "version": "3.10.9"
  }
 },
 "nbformat": 4,
 "nbformat_minor": 2
}
