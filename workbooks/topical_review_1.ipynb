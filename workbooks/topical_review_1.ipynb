{
 "cells": [
  {
   "cell_type": "code",
   "execution_count": 1,
   "metadata": {},
   "outputs": [],
   "source": [
    "import pandas as pd\n",
    "import numpy as np\n",
    "import seaborn as sns"
   ]
  },
  {
   "cell_type": "markdown",
   "metadata": {},
   "source": [
    "# Review #1 \n",
    "\n",
    "This workbook has some representative problems and topics that you should feel reasonably comfortable with. \n",
    "\n",
    "## Textbook Readings\n",
    "\n",
    "Python 4 Everyone - Chapters 1-8. Ignore debugging and recursion - these we didn't cover.\n",
    "\n",
    "## General Guidelines\n",
    "\n",
    "Some ideas that span across all the topics that we've covered, programming, and data science in general:\n",
    "<ul>\n",
    "<li><b> Planning </b></li>\n",
    "    <ul>\n",
    "    <li> Attempt to clearly define the problem - what are you starting with (inputs), and what is the goal (expected output)? </li>\n",
    "    <li> What do you need to be able to do to get from the inputs to the outputs? </li>\n",
    "    <li> In English, write out psuedocode that illustrates the steps that take you from input to output. </li>\n",
    "    <li> Can any of the steps be broken down further into more simple or smaller steps? </li>\n",
    "    <li> How can you check/verify that what you are doing is correct? </li>\n",
    "    <li> <b>At this point you should be pretty clear on what needs to be done, even if you have no idea how to do it.</b> </li>\n",
    "    </ul>\n",
    "<li><b> Implementing </b></li>\n",
    "    <ul>\n",
    "    <li> Begin translating the psuedocode steps into actual code - if you don't know how to implement something, search in documentation or Google for explainations or examples. If the steps are small, there will almost always be a good example or explanation online. </li>\n",
    "    <li> At each step, check (e.g. print the current varaibles) that things are what you expect before moving forward. </li>\n",
    "    <li> If dealing with complex logic (e.g. things where there's branching, multiple options, etc...), start with a simple case and build up from there. Even if you need to use simple placeholder data to make things work. </li>\n",
    "    <li> Here, we just need to translate the logic we made in English when psuedocoding, into the python equivalent. Most steps are something like, \"how do I do X in python\", and if X is a small chunk, those answers are out there. </li>\n",
    "    <li> If one part of code is repeated, and/or has a defined input and output, it should likely be a function. </li>\n",
    "    </ul>\n",
    "<li><b> Testing/Debugging </b></li>\n",
    "    <ul>\n",
    "    <li> Assuming you have checked things using print statements along the way, this should just be to check that all the parts work together. </li>\n",
    "    <li> Test your code with a variety of inputs - espcecially different 'types' of data - negative/positive, large/small, long/short, as well as edge cases where there are cutoffs for decisions. </li>\n",
    "    <li> If you get an error, read the error message and try to understand what it's telling you. It will usually indicate the line of code that caused the error, and searching for errors will often give very good explainations. </li>\n",
    "    <li> If you can't figure out what's going wrong, try to break the problem down into smaller pieces and test those. </li>\n",
    "    </ul>\n",
    "<li><b> Systematicly breaking down problems, and sloving them in bits, makes programming more of a \"following (potentially vague) instructions\" until things work problem than an \"using your super brain to do magic\" problem. </b> There might be some really complex aspect of a problem that you need to work on for a while to solve, but that is fairly rare. Most things are pretty simple after we decompose them, and if we hit something hard, we can finish all the other bits, then work on that one hard part. </li>\n",
    "</ul>"
   ]
  },
  {
   "cell_type": "code",
   "execution_count": 2,
   "metadata": {},
   "outputs": [],
   "source": [
    "import sys\n",
    "# Grab Some Example Data\n",
    "FILE_1 = \"../data/housing.csv\"\n",
    "if 'google.colab' in sys.modules:\n",
    "    !wget https://raw.githubusercontent.com/ageron/handson-ml2/master/datasets/housing/housing.csv\n",
    "    FILE_1 = \"housing.csv\"\n"
   ]
  },
  {
   "cell_type": "markdown",
   "metadata": {},
   "source": [
    "## Variables and Data Types\n",
    "\n",
    "Create and manipulate variables of different data types, including strings, integers, floats, and booleans. Variables can be named almost anything (aside from keywords like int and language rules), but they should be descriptive of what they represent.\n",
    "\n",
    "Each type of variable has different operations we can perform on them, usually they are reasonably intuitive. For example, numbers can do math, strings can be combined, etc... using the standard operators (+, -, *, /, etc...)."
   ]
  },
  {
   "cell_type": "code",
   "execution_count": 3,
   "metadata": {},
   "outputs": [
    {
     "name": "stdout",
     "output_type": "stream",
     "text": [
      "Variables: 0.1 17 hello True\n",
      "Type of Variables: <class 'float'> <class 'int'> <class 'str'> <class 'bool'>\n"
     ]
    }
   ],
   "source": [
    "float1 = 0.1\n",
    "int1 = 17\n",
    "string1 = \"hello\"\n",
    "bool1 = True\n",
    "\n",
    "print(\"Variables:\" , float1, int1, string1, bool1)\n",
    "print(\"Type of Variables:\" , type(float1), type(int1), type(string1), type(bool1))"
   ]
  },
  {
   "cell_type": "markdown",
   "metadata": {},
   "source": [
    "## Data Structures\n",
    "\n",
    "Using containers such as lists, tuples, and dictionaries to store, access, and manipulate data.\n",
    "\n",
    "#### Iterability and Interchangeability\n",
    "\n",
    "One aspect of data structures that we rely on frequently is their 'iterability'. This means that we can loop through the elements of a data structure, and perform some operation on each element. If a data structure is iterable, we can use it in a for loop just as we would a list. In Python, it is common to see these data structures used interchangeably, even a string can be accessed character by character with indices like a list. "
   ]
  },
  {
   "cell_type": "code",
   "execution_count": 4,
   "metadata": {},
   "outputs": [],
   "source": [
    "list1 = [float1, int1, string1, bool1]\n",
    "list2 = [2,3,4,5,6,7,8,9,10,11,12,13,14,15,16]"
   ]
  },
  {
   "cell_type": "markdown",
   "metadata": {},
   "source": [
    "## Conditional Execution\n",
    "\n",
    "Branch your code using if, else, and elif statements. Some important points to remember:\n",
    "<ul>\n",
    "<li> The condition needs to be a conditional - something that can be evaluated as True or False. </li>\n",
    "<li> As long as we can evaluate it to True or False, we can use pretty much anything as a condition. </li>\n",
    "<li> We can use 'and' and 'or' to combine conditions. </li>\n",
    "<li> We can use 'not' to negate a condition. </li>\n",
    "<li> The 'else' statement is optional, and will execute if none of the previous conditions are True. </li>\n",
    "<li> The body of the if/else/elif statement needs to be indented. </li>\n",
    "</ul>"
   ]
  },
  {
   "cell_type": "code",
   "execution_count": 5,
   "metadata": {},
   "outputs": [
    {
     "name": "stdout",
     "output_type": "stream",
     "text": [
      "float1 is less than int1\n",
      "string1 is hello\n"
     ]
    }
   ],
   "source": [
    "# Separate if statements\n",
    "if float1 < int1:\n",
    "    print(\"float1 is less than int1\")\n",
    "if int1 < float1:\n",
    "    print(\"int1 is less than float1\")\n",
    "\n",
    "# if-else statement\n",
    "if string1 == \"hello\":\n",
    "    print(\"string1 is hello\")\n",
    "elif string1 == \"world\":\n",
    "    print(\"string1 is world\")\n",
    "else:\n",
    "    print(\"string1 is neither hello nor world\")"
   ]
  },
  {
   "cell_type": "markdown",
   "metadata": {},
   "source": [
    "## Looping\n",
    "\n",
    "Use for and while loops to iterate over data. Some key points to remember:\n",
    "<ul>\n",
    "<li> The body of the loop needs to be indented. </li>\n",
    "<li> Print statements of counters as well as the actual data being looped over can be helpful for debugging. </li>\n",
    "<li> Check the edge cases of the loop - what happens if the loop is empty, or has only one element? </li>\n",
    "<li> If you are using a while loop, make sure that the condition will eventually be False. </li>\n",
    "<li> Carefuly where you declare varaibles - it is common to define variables on each loop iteration, or within subloop iterations - be cautious of which variables are defined where and use useful names to avoid confusion. </li>\n",
    "</ul>"
   ]
  },
  {
   "cell_type": "code",
   "execution_count": 6,
   "metadata": {},
   "outputs": [
    {
     "name": "stdout",
     "output_type": "stream",
     "text": [
      "<class 'float'>\n",
      "<class 'int'>\n",
      "<class 'str'>\n",
      "<class 'bool'>\n",
      "While total: 45\n",
      "While total with counter: 54\n",
      "Sum up to 2 is 1\n",
      "Sum up to 3 is 3\n",
      "Sum up to 4 is 6\n",
      "Sum up to 5 is 10\n",
      "Sum up to 6 is 15\n",
      "Sum up to 7 is 21\n",
      "Sum up to 8 is 28\n",
      "Sum up to 9 is 36\n",
      "Sum up to 10 is 45\n",
      "Sum up to 11 is 55\n",
      "Sum up to 12 is 66\n",
      "Sum up to 13 is 78\n",
      "Total Sum: 364\n"
     ]
    }
   ],
   "source": [
    "for item in list1:\n",
    "    print(type(item))\n",
    "\n",
    "total_sum = 0\n",
    "while total_sum < 45:\n",
    "    total_sum = total_sum + list2.pop()\n",
    "print(\"While total:\", total_sum)\n",
    "\n",
    "total_sum = 0\n",
    "i = 0\n",
    "while total_sum < 45:\n",
    "    total_sum = total_sum + list2[i]\n",
    "    i += 1\n",
    "print(\"While total with counter:\", total_sum)\n",
    "\n",
    "# Nested Loop\n",
    "total_sum = 0\n",
    "for val in list2:\n",
    "    sum_up_to_val = 0\n",
    "    for i in range(val):\n",
    "        sum_up_to_val += i\n",
    "        total_sum += i\n",
    "    print(f\"Sum up to {val} is {sum_up_to_val}\")\n",
    "print(\"Total Sum:\", total_sum)"
   ]
  },
  {
   "cell_type": "markdown",
   "metadata": {},
   "source": [
    "## Functions\n",
    "\n",
    "Creating, calling, and testing functions. \n",
    "\n",
    "![Functions](../images/function.png)\n",
    "\n",
    "Some things to remember about functions are:\n",
    "<ul>\n",
    "<li> The structure of a function always fits the basic template seen here. </li>\n",
    "<li> The argumnets (inputs) can be anything - strings, numbers, lists, etc... </li>\n",
    "<li> If a function returns a value, we call it fruitfull, if it does not, we call it void. </li>\n",
    "    <ul>\n",
    "    <li> Void functions might print something, write something to a log, or update a setting, rather than returning a value. </li>\n",
    "    <li> Returning a value is done with the 'return' keyword, and is very common, but optional. </li>\n",
    "    </ul>\n",
    "<li> Functions need to be defined before they are called. </li>\n",
    "<li> The act of using a function is called calling it. </li>\n",
    "<li> Functions allow us to make common operations (adding numbers, printing stuff, making a graph) reusable by allowing us to call them with different inputs. </li>\n",
    "<li> Remember that the variables inside a function are local to that function, and are not the same as variables with the same name outside the function. Be cautious of reusing variable names. </li>\n",
    "</ul>"
   ]
  },
  {
   "cell_type": "code",
   "execution_count": 7,
   "metadata": {},
   "outputs": [],
   "source": [
    "# Creating a function\n",
    "def sampleFunction(inputVariable1, inputVariable2):\n",
    "    # Body of Funtion\n",
    "    tempVariable = inputVariable1 + inputVariable2\n",
    "    # Return Statement\n",
    "    return tempVariable"
   ]
  },
  {
   "cell_type": "code",
   "execution_count": 8,
   "metadata": {},
   "outputs": [
    {
     "name": "stdout",
     "output_type": "stream",
     "text": [
      "Function:  15 \n",
      " Expected: 15\n",
      "Function:  25 \n",
      " Expected: 15\n",
      "Function:  20 \n",
      " Expected: 20\n"
     ]
    }
   ],
   "source": [
    "# Testing a function\n",
    "\n",
    "# Test Data\n",
    "input1 = 5\n",
    "input2 = 10\n",
    "input3 = 15\n",
    "\n",
    "# Calling a function\n",
    "output = sampleFunction(input1, input2)\n",
    "output2 = sampleFunction(input2, input3)\n",
    "output3 = sampleFunction(input1, input3)\n",
    "\n",
    "# Results\n",
    "print(\"Function: \", output, \"\\n\", \"Expected: 15\")\n",
    "print(\"Function: \", output2, \"\\n\", \"Expected: 15\")\n",
    "print(\"Function: \", output3, \"\\n\", \"Expected: 20\")"
   ]
  },
  {
   "cell_type": "markdown",
   "metadata": {},
   "source": [
    "#### Another Function Example\n",
    "\n",
    "This function takes in a list of numbers and returns those that are greater than the value provided. "
   ]
  },
  {
   "cell_type": "code",
   "execution_count": 9,
   "metadata": {},
   "outputs": [],
   "source": [
    "def findLargerThanValue(value, inputList):\n",
    "    outputList = []\n",
    "    for item in inputList:\n",
    "        if item > value:\n",
    "            outputList.append(item)\n",
    "    return outputList"
   ]
  },
  {
   "cell_type": "code",
   "execution_count": 10,
   "metadata": {},
   "outputs": [
    {
     "name": "stdout",
     "output_type": "stream",
     "text": [
      "[6, 7, 8, 9, 10, 11, 12, 13]\n"
     ]
    }
   ],
   "source": [
    "print(findLargerThanValue(5, list2))"
   ]
  },
  {
   "cell_type": "markdown",
   "metadata": {},
   "source": [
    "## File Access\n",
    "\n",
    "We can access files directly to read and write data. Some important points to remember:\n",
    "<ul>\n",
    "<li> The 'open' function is used to open a file, and returns a file object. </li>\n",
    "<li> The second argument, 'r', 'w', 'a', 'r+', 'w+', or 'a+', is used to specify the mode of the file - reading, writing, or appending. </li>\n",
    "<li> The 'with' statement is used to open a file, and will automatically close the file when the block is exited. </li>\n",
    "<li> The 'read' method is used to read the entire file, the 'readline' method is used to read a single line, and the 'readlines' method is used to read all the lines into a list. </li>\n",
    "<li> The 'write' method is used to write to a file. </li>\n",
    "</ul>"
   ]
  },
  {
   "cell_type": "code",
   "execution_count": 11,
   "metadata": {},
   "outputs": [
    {
     "name": "stdout",
     "output_type": "stream",
     "text": [
      "-122.25,37.85,52.0,1274.0,235.0,558.0,219.0,5.6431,341300.0,NEAR BAY\n",
      "\n",
      "-118.32,34.02,50.0,1655.0,256.0,672.0,260.0,4.2554,194300.0,<1H OCEAN\n",
      "\n",
      "-121.03,39.05,12.0,1875.0,307.0,806.0,283.0,3.9185,195200.0,INLAND\n",
      "\n",
      "-117.04,32.75,36.0,2297.0,418.0,1070.0,392.0,3.5192,144000.0,NEAR OCEAN\n",
      "\n",
      "-119.19,36.06,29.0,1815.0,376.0,1421.0,339.0,1.9091,71300.0,INLAND\n",
      "\n"
     ]
    }
   ],
   "source": [
    "print_every = 5000\n",
    "\n",
    "with open(FILE_1, 'r') as file:\n",
    "    lines = file.readlines()\n",
    "    for i in range(4, len(lines), print_every):\n",
    "        print(lines[i])\n"
   ]
  },
  {
   "cell_type": "markdown",
   "metadata": {},
   "source": [
    "## Datasets and Pandas\n",
    "\n",
    "Reading data from files into a Pandas DataFrame, and performing operations on that DataFrame such as filtering, slicing, grouping, and aggregating. Some important points to remember:\n",
    "<ul>\n",
    "<li> The dataframe is a two dimensional table of data, with rows and columns. Much like a database table. </li>\n",
    "<li> Each cell should have one value (when prepping for data science work), and each column should be one type of data. </li>\n",
    "<li> We can refrer to columns by their name (e.g. df['column_name']), or by their index (e.g. df.iloc[:, 0]). </li>\n",
    "<li> We can filter the rows of a dataframe by using a condition (e.g. df[df['column_name'] > 5]). </li>\n",
    "<li> We can group the rows of a dataframe by a column, and then perform an aggregation on the groups (e.g. df.groupby('column_name').mean()). </li>\n",
    "<li> We can use the 'apply' method to apply a function to each element of a column. </li>\n",
    "</ul>\n",
    "\n",
    "### Dataset Exploration\n",
    "\n",
    "Gather some basic stats and information about the data, through exploring it either numerically or visually. For now, the most important things that we want to learn about our data are:\n",
    "<ul>\n",
    "<li> Shape - the number of rows and columns. </li>\n",
    "<li> Data Types - the types of data in each column. </li>\n",
    "<li> Range - the min and max of the data. Largely to look for outliers. </li>\n",
    "<li> Distribution - the shape of the data. </li>\n",
    "<li> Central Tendency - the mean, median, and mode of the data. </li>\n",
    "<li> Spread - the standard deviation of the data. </li>\n",
    "</ul>"
   ]
  },
  {
   "cell_type": "code",
   "execution_count": 12,
   "metadata": {},
   "outputs": [
    {
     "data": {
      "text/html": [
       "<div>\n",
       "<style scoped>\n",
       "    .dataframe tbody tr th:only-of-type {\n",
       "        vertical-align: middle;\n",
       "    }\n",
       "\n",
       "    .dataframe tbody tr th {\n",
       "        vertical-align: top;\n",
       "    }\n",
       "\n",
       "    .dataframe thead th {\n",
       "        text-align: right;\n",
       "    }\n",
       "</style>\n",
       "<table border=\"1\" class=\"dataframe\">\n",
       "  <thead>\n",
       "    <tr style=\"text-align: right;\">\n",
       "      <th></th>\n",
       "      <th>longitude</th>\n",
       "      <th>latitude</th>\n",
       "      <th>housing_median_age</th>\n",
       "      <th>total_rooms</th>\n",
       "      <th>total_bedrooms</th>\n",
       "      <th>population</th>\n",
       "      <th>households</th>\n",
       "      <th>median_income</th>\n",
       "      <th>median_house_value</th>\n",
       "      <th>ocean_proximity</th>\n",
       "    </tr>\n",
       "  </thead>\n",
       "  <tbody>\n",
       "    <tr>\n",
       "      <th>0</th>\n",
       "      <td>-122.23</td>\n",
       "      <td>37.88</td>\n",
       "      <td>41.0</td>\n",
       "      <td>880.0</td>\n",
       "      <td>129.0</td>\n",
       "      <td>322.0</td>\n",
       "      <td>126.0</td>\n",
       "      <td>8.3252</td>\n",
       "      <td>452600.0</td>\n",
       "      <td>NEAR BAY</td>\n",
       "    </tr>\n",
       "    <tr>\n",
       "      <th>1</th>\n",
       "      <td>-122.22</td>\n",
       "      <td>37.86</td>\n",
       "      <td>21.0</td>\n",
       "      <td>7099.0</td>\n",
       "      <td>1106.0</td>\n",
       "      <td>2401.0</td>\n",
       "      <td>1138.0</td>\n",
       "      <td>8.3014</td>\n",
       "      <td>358500.0</td>\n",
       "      <td>NEAR BAY</td>\n",
       "    </tr>\n",
       "    <tr>\n",
       "      <th>2</th>\n",
       "      <td>-122.24</td>\n",
       "      <td>37.85</td>\n",
       "      <td>52.0</td>\n",
       "      <td>1467.0</td>\n",
       "      <td>190.0</td>\n",
       "      <td>496.0</td>\n",
       "      <td>177.0</td>\n",
       "      <td>7.2574</td>\n",
       "      <td>352100.0</td>\n",
       "      <td>NEAR BAY</td>\n",
       "    </tr>\n",
       "    <tr>\n",
       "      <th>3</th>\n",
       "      <td>-122.25</td>\n",
       "      <td>37.85</td>\n",
       "      <td>52.0</td>\n",
       "      <td>1274.0</td>\n",
       "      <td>235.0</td>\n",
       "      <td>558.0</td>\n",
       "      <td>219.0</td>\n",
       "      <td>5.6431</td>\n",
       "      <td>341300.0</td>\n",
       "      <td>NEAR BAY</td>\n",
       "    </tr>\n",
       "    <tr>\n",
       "      <th>4</th>\n",
       "      <td>-122.25</td>\n",
       "      <td>37.85</td>\n",
       "      <td>52.0</td>\n",
       "      <td>1627.0</td>\n",
       "      <td>280.0</td>\n",
       "      <td>565.0</td>\n",
       "      <td>259.0</td>\n",
       "      <td>3.8462</td>\n",
       "      <td>342200.0</td>\n",
       "      <td>NEAR BAY</td>\n",
       "    </tr>\n",
       "  </tbody>\n",
       "</table>\n",
       "</div>"
      ],
      "text/plain": [
       "   longitude  latitude  housing_median_age  total_rooms  total_bedrooms  \\\n",
       "0    -122.23     37.88                41.0        880.0           129.0   \n",
       "1    -122.22     37.86                21.0       7099.0          1106.0   \n",
       "2    -122.24     37.85                52.0       1467.0           190.0   \n",
       "3    -122.25     37.85                52.0       1274.0           235.0   \n",
       "4    -122.25     37.85                52.0       1627.0           280.0   \n",
       "\n",
       "   population  households  median_income  median_house_value ocean_proximity  \n",
       "0       322.0       126.0         8.3252            452600.0        NEAR BAY  \n",
       "1      2401.0      1138.0         8.3014            358500.0        NEAR BAY  \n",
       "2       496.0       177.0         7.2574            352100.0        NEAR BAY  \n",
       "3       558.0       219.0         5.6431            341300.0        NEAR BAY  \n",
       "4       565.0       259.0         3.8462            342200.0        NEAR BAY  "
      ]
     },
     "execution_count": 12,
     "metadata": {},
     "output_type": "execute_result"
    }
   ],
   "source": [
    "df = pd.read_csv(FILE_1)\n",
    "df.head()"
   ]
  },
  {
   "cell_type": "code",
   "execution_count": 13,
   "metadata": {},
   "outputs": [
    {
     "data": {
      "text/html": [
       "<div>\n",
       "<style scoped>\n",
       "    .dataframe tbody tr th:only-of-type {\n",
       "        vertical-align: middle;\n",
       "    }\n",
       "\n",
       "    .dataframe tbody tr th {\n",
       "        vertical-align: top;\n",
       "    }\n",
       "\n",
       "    .dataframe thead th {\n",
       "        text-align: right;\n",
       "    }\n",
       "</style>\n",
       "<table border=\"1\" class=\"dataframe\">\n",
       "  <thead>\n",
       "    <tr style=\"text-align: right;\">\n",
       "      <th></th>\n",
       "      <th>count</th>\n",
       "      <th>unique</th>\n",
       "      <th>top</th>\n",
       "      <th>freq</th>\n",
       "      <th>mean</th>\n",
       "      <th>std</th>\n",
       "      <th>min</th>\n",
       "      <th>25%</th>\n",
       "      <th>50%</th>\n",
       "      <th>75%</th>\n",
       "      <th>max</th>\n",
       "    </tr>\n",
       "  </thead>\n",
       "  <tbody>\n",
       "    <tr>\n",
       "      <th>longitude</th>\n",
       "      <td>20640.0</td>\n",
       "      <td>NaN</td>\n",
       "      <td>NaN</td>\n",
       "      <td>NaN</td>\n",
       "      <td>-119.569704</td>\n",
       "      <td>2.003532</td>\n",
       "      <td>-124.35</td>\n",
       "      <td>-121.8</td>\n",
       "      <td>-118.49</td>\n",
       "      <td>-118.01</td>\n",
       "      <td>-114.31</td>\n",
       "    </tr>\n",
       "    <tr>\n",
       "      <th>latitude</th>\n",
       "      <td>20640.0</td>\n",
       "      <td>NaN</td>\n",
       "      <td>NaN</td>\n",
       "      <td>NaN</td>\n",
       "      <td>35.631861</td>\n",
       "      <td>2.135952</td>\n",
       "      <td>32.54</td>\n",
       "      <td>33.93</td>\n",
       "      <td>34.26</td>\n",
       "      <td>37.71</td>\n",
       "      <td>41.95</td>\n",
       "    </tr>\n",
       "    <tr>\n",
       "      <th>housing_median_age</th>\n",
       "      <td>20640.0</td>\n",
       "      <td>NaN</td>\n",
       "      <td>NaN</td>\n",
       "      <td>NaN</td>\n",
       "      <td>28.639486</td>\n",
       "      <td>12.585558</td>\n",
       "      <td>1.0</td>\n",
       "      <td>18.0</td>\n",
       "      <td>29.0</td>\n",
       "      <td>37.0</td>\n",
       "      <td>52.0</td>\n",
       "    </tr>\n",
       "    <tr>\n",
       "      <th>total_rooms</th>\n",
       "      <td>20640.0</td>\n",
       "      <td>NaN</td>\n",
       "      <td>NaN</td>\n",
       "      <td>NaN</td>\n",
       "      <td>2635.763081</td>\n",
       "      <td>2181.615252</td>\n",
       "      <td>2.0</td>\n",
       "      <td>1447.75</td>\n",
       "      <td>2127.0</td>\n",
       "      <td>3148.0</td>\n",
       "      <td>39320.0</td>\n",
       "    </tr>\n",
       "    <tr>\n",
       "      <th>total_bedrooms</th>\n",
       "      <td>20433.0</td>\n",
       "      <td>NaN</td>\n",
       "      <td>NaN</td>\n",
       "      <td>NaN</td>\n",
       "      <td>537.870553</td>\n",
       "      <td>421.38507</td>\n",
       "      <td>1.0</td>\n",
       "      <td>296.0</td>\n",
       "      <td>435.0</td>\n",
       "      <td>647.0</td>\n",
       "      <td>6445.0</td>\n",
       "    </tr>\n",
       "    <tr>\n",
       "      <th>population</th>\n",
       "      <td>20640.0</td>\n",
       "      <td>NaN</td>\n",
       "      <td>NaN</td>\n",
       "      <td>NaN</td>\n",
       "      <td>1425.476744</td>\n",
       "      <td>1132.462122</td>\n",
       "      <td>3.0</td>\n",
       "      <td>787.0</td>\n",
       "      <td>1166.0</td>\n",
       "      <td>1725.0</td>\n",
       "      <td>35682.0</td>\n",
       "    </tr>\n",
       "    <tr>\n",
       "      <th>households</th>\n",
       "      <td>20640.0</td>\n",
       "      <td>NaN</td>\n",
       "      <td>NaN</td>\n",
       "      <td>NaN</td>\n",
       "      <td>499.53968</td>\n",
       "      <td>382.329753</td>\n",
       "      <td>1.0</td>\n",
       "      <td>280.0</td>\n",
       "      <td>409.0</td>\n",
       "      <td>605.0</td>\n",
       "      <td>6082.0</td>\n",
       "    </tr>\n",
       "    <tr>\n",
       "      <th>median_income</th>\n",
       "      <td>20640.0</td>\n",
       "      <td>NaN</td>\n",
       "      <td>NaN</td>\n",
       "      <td>NaN</td>\n",
       "      <td>3.870671</td>\n",
       "      <td>1.899822</td>\n",
       "      <td>0.4999</td>\n",
       "      <td>2.5634</td>\n",
       "      <td>3.5348</td>\n",
       "      <td>4.74325</td>\n",
       "      <td>15.0001</td>\n",
       "    </tr>\n",
       "    <tr>\n",
       "      <th>median_house_value</th>\n",
       "      <td>20640.0</td>\n",
       "      <td>NaN</td>\n",
       "      <td>NaN</td>\n",
       "      <td>NaN</td>\n",
       "      <td>206855.816909</td>\n",
       "      <td>115395.615874</td>\n",
       "      <td>14999.0</td>\n",
       "      <td>119600.0</td>\n",
       "      <td>179700.0</td>\n",
       "      <td>264725.0</td>\n",
       "      <td>500001.0</td>\n",
       "    </tr>\n",
       "    <tr>\n",
       "      <th>ocean_proximity</th>\n",
       "      <td>20640</td>\n",
       "      <td>5</td>\n",
       "      <td>&lt;1H OCEAN</td>\n",
       "      <td>9136</td>\n",
       "      <td>NaN</td>\n",
       "      <td>NaN</td>\n",
       "      <td>NaN</td>\n",
       "      <td>NaN</td>\n",
       "      <td>NaN</td>\n",
       "      <td>NaN</td>\n",
       "      <td>NaN</td>\n",
       "    </tr>\n",
       "  </tbody>\n",
       "</table>\n",
       "</div>"
      ],
      "text/plain": [
       "                      count unique        top  freq           mean  \\\n",
       "longitude           20640.0    NaN        NaN   NaN    -119.569704   \n",
       "latitude            20640.0    NaN        NaN   NaN      35.631861   \n",
       "housing_median_age  20640.0    NaN        NaN   NaN      28.639486   \n",
       "total_rooms         20640.0    NaN        NaN   NaN    2635.763081   \n",
       "total_bedrooms      20433.0    NaN        NaN   NaN     537.870553   \n",
       "population          20640.0    NaN        NaN   NaN    1425.476744   \n",
       "households          20640.0    NaN        NaN   NaN      499.53968   \n",
       "median_income       20640.0    NaN        NaN   NaN       3.870671   \n",
       "median_house_value  20640.0    NaN        NaN   NaN  206855.816909   \n",
       "ocean_proximity       20640      5  <1H OCEAN  9136            NaN   \n",
       "\n",
       "                              std      min       25%       50%       75%  \\\n",
       "longitude                2.003532  -124.35    -121.8   -118.49   -118.01   \n",
       "latitude                 2.135952    32.54     33.93     34.26     37.71   \n",
       "housing_median_age      12.585558      1.0      18.0      29.0      37.0   \n",
       "total_rooms           2181.615252      2.0   1447.75    2127.0    3148.0   \n",
       "total_bedrooms          421.38507      1.0     296.0     435.0     647.0   \n",
       "population            1132.462122      3.0     787.0    1166.0    1725.0   \n",
       "households             382.329753      1.0     280.0     409.0     605.0   \n",
       "median_income            1.899822   0.4999    2.5634    3.5348   4.74325   \n",
       "median_house_value  115395.615874  14999.0  119600.0  179700.0  264725.0   \n",
       "ocean_proximity               NaN      NaN       NaN       NaN       NaN   \n",
       "\n",
       "                         max  \n",
       "longitude            -114.31  \n",
       "latitude               41.95  \n",
       "housing_median_age      52.0  \n",
       "total_rooms          39320.0  \n",
       "total_bedrooms        6445.0  \n",
       "population           35682.0  \n",
       "households            6082.0  \n",
       "median_income        15.0001  \n",
       "median_house_value  500001.0  \n",
       "ocean_proximity          NaN  "
      ]
     },
     "execution_count": 13,
     "metadata": {},
     "output_type": "execute_result"
    }
   ],
   "source": [
    "df.describe(include='all').T"
   ]
  },
  {
   "cell_type": "code",
   "execution_count": 14,
   "metadata": {},
   "outputs": [
    {
     "data": {
      "text/plain": [
       "Index(['longitude', 'latitude', 'housing_median_age', 'total_rooms',\n",
       "       'total_bedrooms', 'population', 'households', 'median_income',\n",
       "       'median_house_value', 'ocean_proximity'],\n",
       "      dtype='object')"
      ]
     },
     "execution_count": 14,
     "metadata": {},
     "output_type": "execute_result"
    }
   ],
   "source": [
    "df.columns"
   ]
  },
  {
   "cell_type": "markdown",
   "metadata": {},
   "source": [
    "### Slicing and Manipulating DataFrames"
   ]
  },
  {
   "cell_type": "code",
   "execution_count": 15,
   "metadata": {},
   "outputs": [],
   "source": [
    "# Select a single column\n",
    "df_one_column = df['median_house_value']\n",
    "\n",
    "# Select multiple columns\n",
    "df_multiple_columns = df[['median_house_value', 'median_income']]\n",
    "\n",
    "# Select rows by index\n",
    "df_rows = df.iloc[0:10]\n",
    "\n",
    "# Select rows by condition\n",
    "df_rows_condition = df[df['median_house_value'] > 500000]\n",
    "\n",
    "# Select rows by multiple conditions\n",
    "df_rows_condition = df[(df['median_house_value'] > 500000) & (df['median_income'] > 8)]"
   ]
  },
  {
   "cell_type": "markdown",
   "metadata": {},
   "source": [
    "#### Aggregating Data"
   ]
  },
  {
   "cell_type": "code",
   "execution_count": 31,
   "metadata": {},
   "outputs": [
    {
     "data": {
      "text/plain": [
       "ocean_proximity  median_house_value_bins\n",
       "<1H OCEAN        (14513.998, 111999.4]      2.00000\n",
       "                 (111999.4, 208999.8]       3.20310\n",
       "                 (208999.8, 306000.2]       4.53170\n",
       "                 (306000.2, 403000.6]       5.46895\n",
       "                 (403000.6, 500001.0]       6.82680\n",
       "INLAND           (14513.998, 111999.4]      2.35490\n",
       "                 (111999.4, 208999.8]       3.61145\n",
       "                 (208999.8, 306000.2]       4.83500\n",
       "                 (306000.2, 403000.6]       6.15360\n",
       "                 (403000.6, 500001.0]       6.93920\n",
       "ISLAND           (14513.998, 111999.4]          NaN\n",
       "                 (111999.4, 208999.8]           NaN\n",
       "                 (208999.8, 306000.2]       2.99740\n",
       "                 (306000.2, 403000.6]           NaN\n",
       "                 (403000.6, 500001.0]       2.73610\n",
       "NEAR BAY         (14513.998, 111999.4]      2.18420\n",
       "                 (111999.4, 208999.8]       3.27590\n",
       "                 (208999.8, 306000.2]       4.07810\n",
       "                 (306000.2, 403000.6]       4.90000\n",
       "                 (403000.6, 500001.0]       5.95770\n",
       "NEAR OCEAN       (14513.998, 111999.4]      2.09000\n",
       "                 (111999.4, 208999.8]       3.04530\n",
       "                 (208999.8, 306000.2]       3.83330\n",
       "                 (306000.2, 403000.6]       4.72160\n",
       "                 (403000.6, 500001.0]       6.44950\n",
       "Name: median_income, dtype: float64"
      ]
     },
     "execution_count": 31,
     "metadata": {},
     "output_type": "execute_result"
    }
   ],
   "source": [
    "import pandas as pd\n",
    "# Get Median Value by Ocean Proximity\n",
    "median_by_proximity = df.groupby('ocean_proximity')['median_house_value'].median()\n",
    "\n",
    "# Get Median Value by Ocean Proximity and Median Income\n",
    "df['median_house_value_bins'] = pd.cut(df['median_house_value'], bins=5)\n",
    "median_by_proximity_income = df.groupby(['ocean_proximity', 'median_house_value_bins'])['median_income'].median()\n",
    "median_by_proximity_income\n"
   ]
  },
  {
   "cell_type": "markdown",
   "metadata": {},
   "source": [
    "### Visualizations\n",
    "\n",
    "We can explore the data visually as well as with numerical summaries. The main thing we can look at for now is the distribution of our data - the range, dispersion, location, and shape of the data. The tools we use to see this are variants of the histogram plot. "
   ]
  },
  {
   "cell_type": "code",
   "execution_count": 16,
   "metadata": {},
   "outputs": [
    {
     "data": {
      "text/plain": [
       "<Axes: >"
      ]
     },
     "execution_count": 16,
     "metadata": {},
     "output_type": "execute_result"
    },
    {
     "data": {
      "image/png": "[encoded data removed]",
      "text/plain": [
       "<Figure size 800x400 with 1 Axes>"
      ]
     },
     "metadata": {},
     "output_type": "display_data"
    }
   ],
   "source": [
    "df[\"median_income\"].hist(bins=50, figsize=(8,4))"
   ]
  },
  {
   "cell_type": "markdown",
   "metadata": {},
   "source": [
    "We can also use Seaborn to make some nicer visualizations. We can also look at density rather than raw count, a good change if we are comparing different groups of data which have different numbers of records. Note that when we have different classes/groups in our data, the 'hue' parameter can be used to color the data by the class."
   ]
  },
  {
   "cell_type": "code",
   "execution_count": 17,
   "metadata": {},
   "outputs": [
    {
     "data": {
      "text/plain": [
       "<1H OCEAN     9136\n",
       "INLAND        6551\n",
       "NEAR OCEAN    2658\n",
       "NEAR BAY      2290\n",
       "ISLAND           5\n",
       "Name: ocean_proximity, dtype: int64"
      ]
     },
     "execution_count": 17,
     "metadata": {},
     "output_type": "execute_result"
    }
   ],
   "source": [
    "df[\"ocean_proximity\"].value_counts()"
   ]
  },
  {
   "cell_type": "code",
   "execution_count": 18,
   "metadata": {},
   "outputs": [
    {
     "data": {
      "text/plain": [
       "<Axes: xlabel='median_income', ylabel='Density'>"
      ]
     },
     "execution_count": 18,
     "metadata": {},
     "output_type": "execute_result"
    },
    {
     "data": {
      "image/png": "[encoded data removed]",
      "text/plain": [
       "<Figure size 640x480 with 1 Axes>"
      ]
     },
     "metadata": {},
     "output_type": "display_data"
    }
   ],
   "source": [
    "# Visualizing the data\n",
    "sns.histplot(df, x=\"median_income\", bins=50, kde=True, hue=\"ocean_proximity\", stat=\"density\")\n"
   ]
  },
  {
   "cell_type": "markdown",
   "metadata": {},
   "source": [
    "## Arrays\n",
    "\n",
    "Creating arrays from scratch or other data structures, using arrays to perform operations, and manipulating arrays. Checking and manipulating the shape of arrays, particularly 2D and 1D arrays. Some important points to remember:\n",
    "<ul>\n",
    "<li> Arrays are a data structure that can hold multiple values, but are all of the same type (usually numbers), and have a fixed shape. </li>\n",
    "<li> Arrays are more memory efficient and faster than lists or other data structures, which is our primary reason for using them. </li>\n",
    "<li> Arrays can be created from lists, tuples, or other data structures. </li>\n",
    "<li> Arrays can be used to perform operations on all the elements at once, rather than needing to loop through them. (Side Note: A concept called vectorization) </li>\n",
    "<li> Arrays can be sliced and manipulated in the same way as lists, though taking elements out will create a copy, not modify the original. </li>\n",
    "<li> Arrays can be reshaped to change the number of rows and columns, as long as the correct number of elements are in the array. </li>\n",
    "</ul>"
   ]
  },
  {
   "cell_type": "code",
   "execution_count": 19,
   "metadata": {},
   "outputs": [
    {
     "name": "stdout",
     "output_type": "stream",
     "text": [
      "90\n",
      "(12,)\n",
      "[ 2  3  4  5  6  7  8  9 10 11 12 13]\n"
     ]
    }
   ],
   "source": [
    "array1 = np.array(list2)\n",
    "print(np.sum(array1))\n",
    "print(array1.shape)\n",
    "print(array1)"
   ]
  },
  {
   "cell_type": "code",
   "execution_count": 20,
   "metadata": {},
   "outputs": [
    {
     "name": "stdout",
     "output_type": "stream",
     "text": [
      "(6, 2)\n",
      "[[ 2  3]\n",
      " [ 4  5]\n",
      " [ 6  7]\n",
      " [ 8  9]\n",
      " [10 11]\n",
      " [12 13]]\n"
     ]
    }
   ],
   "source": [
    "array2 = array1.reshape(6, 2)\n",
    "np.sum(array2)\n",
    "print(array2.shape)\n",
    "print(array2)"
   ]
  },
  {
   "cell_type": "code",
   "execution_count": 21,
   "metadata": {},
   "outputs": [
    {
     "name": "stdout",
     "output_type": "stream",
     "text": [
      "(12, 1)\n",
      "[[ 2]\n",
      " [ 3]\n",
      " [ 4]\n",
      " [ 5]\n",
      " [ 6]\n",
      " [ 7]\n",
      " [ 8]\n",
      " [ 9]\n",
      " [10]\n",
      " [11]\n",
      " [12]\n",
      " [13]]\n"
     ]
    }
   ],
   "source": [
    "array3 = array1.reshape(-1, 1)\n",
    "np.sum(array3)\n",
    "print(array3.shape)\n",
    "print(array3)"
   ]
  },
  {
   "cell_type": "code",
   "execution_count": 22,
   "metadata": {},
   "outputs": [
    {
     "name": "stdout",
     "output_type": "stream",
     "text": [
      "(3, 2, 2)\n",
      "[[[ 2  3]\n",
      "  [ 4  5]]\n",
      "\n",
      " [[ 6  7]\n",
      "  [ 8  9]]\n",
      "\n",
      " [[10 11]\n",
      "  [12 13]]]\n"
     ]
    }
   ],
   "source": [
    "array4 = array1.reshape(3, 2, 2)\n",
    "np.sum(array4)\n",
    "print(array4.shape)\n",
    "print(array4)"
   ]
  },
  {
   "cell_type": "markdown",
   "metadata": {},
   "source": [
    "## Documentation\n",
    "\n",
    "We should also be getting used to reading documentation, and using it to understand how to use new functions or libraries. The Pandas and Seaborn documentation pages are relatively easy to read and understand, and are a good place to start getting some practice. Look for things like alternate arguments that you can add, try them, and observe the results - particularly with the seaborn visualizations, as the changes are visual. "
   ]
  },
  {
   "cell_type": "markdown",
   "metadata": {},
   "source": [
    "## Exercise\n",
    "\n",
    "Create a function called outlier_filter() that takes in a dataframe as well as an 'outlier limit' as arguments. The function should analyze all the numeric columns in the dataframe and filter out all rows of data where a value exceeds the outlier limit.\n",
    "\n",
    "The 'outlier limit' is given in standard deviations from the mean. So, if the outlier limit is 2, then any value that is more than 2 standard deviations from the mean should be removed. For example, if the mean of a column is 125, and the standard deviation is 10 (these can be calculated by using functions, not manually), then any values that are less than 105 (mean - outlier_limit * std_dev) or more than 145 (mean - outlier_limit * std_dev) should be removed. If this is easy, separate the calculation of the limits into a separate function, and call it from the main function. This would allow you to filter outliers differently (for example, using interquartile range), by swapping out that limit calculation function."
   ]
  },
  {
   "cell_type": "code",
   "execution_count": 23,
   "metadata": {},
   "outputs": [
    {
     "data": {
      "text/plain": [
       "'\\nMultiple Line Comment\\n'"
      ]
     },
     "execution_count": 23,
     "metadata": {},
     "output_type": "execute_result"
    }
   ],
   "source": [
    "# Single Comment\n",
    "\n",
    "\"\"\"\n",
    "Multiple Line Comment\n",
    "\"\"\""
   ]
  }
 ],
 "metadata": {
  "kernelspec": {
   "display_name": "ml_2",
   "language": "python",
   "name": "python3"
  },
  "language_info": {
   "codemirror_mode": {
    "name": "ipython",
    "version": 3
   },
   "file_extension": ".py",
   "mimetype": "text/x-python",
   "name": "python",
   "nbconvert_exporter": "python",
   "pygments_lexer": "ipython3",
   "version": "3.10.9"
  }
 },
 "nbformat": 4,
 "nbformat_minor": 2
}
