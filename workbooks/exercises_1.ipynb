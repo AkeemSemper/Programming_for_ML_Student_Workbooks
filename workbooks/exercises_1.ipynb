{
 "cells": [
  {
   "cell_type": "code",
   "execution_count": null,
   "metadata": {},
   "outputs": [],
   "source": [
    "import pandas as pd\n",
    "\n",
    "!wget -nc https://raw.githubusercontent.com/AkeemSemper/ML_for_Non_DS_Students/main/data/titanic_train.csv\n",
    "FILE_PATH = 'titanic_train.csv'"
   ]
  },
  {
   "cell_type": "markdown",
   "metadata": {},
   "source": [
    "# Practice and Review Problems\n",
    "\n",
    "Let's work through some practice exercises. Some of these will be simple, some a little more complex. For each problem, remember to tackle it systematically:\n",
    "<ul>\n",
    "<li> What is the problem asking for? (I.e. what is the end result you are doing/producing?) </li>\n",
    "<li> What are the inputs? (I.e. what do you have to get started?) </li>\n",
    "<li> These two steps basically define the start and end of a function that does what you need. </li>\n",
    "<li> What are the steps in between? Be sure to break the problem down into smaller steps. In words, not code. </li>\n",
    "<li> Walk through one execution in your head or on paper - are any steps missing, ambiguous, or actually made up of more steps and need more breaking down? </li>\n",
    "<li> Along the way, does that need any \"additons\" - new variables, pulling input from somewhere else, etc? </li>\n",
    "<li> Start the write the code, each step should translate into a line or two of code, since you have already broken it down. </li>\n",
    "<li> If you don't know how to do a step, it is now one specific thing, look for it in documentation or google \"python [thing you need to do]\" </li>\n",
    "<li> Place print statements throughout the code that print out the values of variables as they are being changed, so you can see what is happening, and check for correctness as you go. </li>\n",
    "<li> Test the code with a few different inputs to make sure it works. </li>\n",
    "<li> Bob's your uncle! </li>\n",
    "</ul>\n",
    "\n",
    "For logistics, feel free to chat in the chat, ask for breakout rooms, talk on the line, etc... Talking things out is useful. \n",
    "\n",
    "## Loading Data\n",
    "\n",
    "You might want to load some data to test, the !wget command above downloads a file from the data folder for this repository. There are many data sources in there, you can navigate through the files in the sidebar to the left by going to the URL: https://github.com/AkeemSemper/ML_for_Non_DS_Students/tree/main/data The URLs can be copied into that command to download the data - note that you need the <b>raw</b> URL - there's a raw button in the github interface to get to it after you click on a file name. Google \"github raw url\" for more info and details if you need. "
   ]
  },
  {
   "cell_type": "markdown",
   "metadata": {},
   "source": [
    "## Question 1\n",
    "\n",
    "Create a function that takes in:\n",
    "<ul>\n",
    "<li> A list of full names that can be in either of the formats: \"First Last\" or \"Last, First\" </li>\n",
    "</ul>\n",
    "\n",
    "The function should return:\n",
    "<ul>\n",
    "<li> A tuple containing four items: </li>\n",
    "    <ul>\n",
    "    <li> A list of the first names </li>\n",
    "    <li> A list of the last names </li>\n",
    "    <li> A list of the full names in the \"First Last\" format </li>\n",
    "    <li> A list of the full names in the \"Last, First\" format </li>\n",
    "    </ul>\n",
    "</ul>\n",
    "\n",
    "The order should be maintained for the lists. "
   ]
  },
  {
   "cell_type": "code",
   "execution_count": null,
   "metadata": {},
   "outputs": [],
   "source": [
    "sample_input_list = [\"John Smith\", \"Jane Doe\", \"Smith, Janice\", \"Doe, John\", \"Timmons, Tom\", \"Bob Johnson\"]"
   ]
  },
  {
   "cell_type": "markdown",
   "metadata": {},
   "source": [
    "## Question 2\n",
    "\n",
    "Create a function that takes in:\n",
    "<ul>\n",
    "<li> A dataframe </li>\n",
    "<li> A aggregation (i.e. sum, count, mean, median, standard deviation) </li>\n",
    "</ul>\n",
    "\n",
    "The function should print:\n",
    "<ul>\n",
    "<li> The aggregation of each <i>numeric</i>column in the dataframe </li>\n",
    "<li> The value counts of each <i>non-numeric</i> column in the dataframe </li>\n",
    "</ul>\n",
    "\n",
    "You will need to determine how to identify numeric and non-numeric columns, you can add additional arguments if you need/want (you could potentially make this automatic if the columns are not specified, and use what is provided if they are, but we haven't covered that yet - challenge problem!). Remember, this needs to be generic - so any dataframe should work, with any number/names of numeric and non-numeric columns. You'll also want to test this, so either pull in or create some data that allows you to test. If you're creating data, it is possible to automatically create random values, google that if needed. I personally would use some dataset for testing. "
   ]
  },
  {
   "cell_type": "code",
   "execution_count": null,
   "metadata": {},
   "outputs": [],
   "source": [
    "# Code"
   ]
  },
  {
   "cell_type": "code",
   "execution_count": null,
   "metadata": {},
   "outputs": [],
   "source": [
    "# Code"
   ]
  },
  {
   "cell_type": "markdown",
   "metadata": {},
   "source": [
    "## Question 3\n",
    "\n",
    "Create a function that takes in:\n",
    "<ul>\n",
    "<li> A dataframe </li>\n",
    "<li> An operation - \"remove\", \"median\", \"mean\", \"mode\" </li>\n",
    "</ul>\n",
    "\n",
    "The function should return:\n",
    "<ul>\n",
    "<li> That data frame, with the operation performed on <b>any missing values</b> in the dataframe. </li>\n",
    "<li> The calculations should be done on a column by column basis. </li>\n",
    "<li> Think about what to do, logically, with categorical columns. </li>\n",
    "</ul>\n",
    "\n",
    "Again, you'll need some data to test. You may also want to generate some blank spaces in data that doesn't have much - this can be done randomly, and is a good interim step to search for and build. You can also look, on sites like Kaggle or Google Data Search, for datasets that have missing values. You can also upload a file into Colab then use it, Google \"upload file to colab\" for more step-by-step instructions."
   ]
  },
  {
   "cell_type": "code",
   "execution_count": null,
   "metadata": {},
   "outputs": [],
   "source": [
    "# Code"
   ]
  },
  {
   "cell_type": "markdown",
   "metadata": {},
   "source": [
    "## Question 4\n",
    "\n",
    "Create a function that takes in:\n",
    "<ul>\n",
    "<li> A list of strings </li>\n",
    "</ul>\n",
    "\n",
    "The function should return:\n",
    "<ul>\n",
    "<li> A list of the strings that are palindromes </li>\n",
    "</ul>"
   ]
  },
  {
   "cell_type": "code",
   "execution_count": null,
   "metadata": {},
   "outputs": [],
   "source": [
    "# Code"
   ]
  },
  {
   "cell_type": "markdown",
   "metadata": {},
   "source": [
    "## Question 5\n",
    "\n",
    "Create a function that takes in:\n",
    "<ul>\n",
    "<li> A dataframe </li>\n",
    "<li> An \"outlier limit\" of standard deviations </li>\n",
    "<li> A \"count limit\" for categorical columns </li>\n",
    "</ul>\n",
    "\n",
    "The function should return:\n",
    "<ul>\n",
    "<li> A dataframe with the outliers removed - i.e. anything that is more than X standard deviations higher or lower than the mean is removed.</li>\n",
    "<li> The categorical columns that have less than X counts removed. </li>\n",
    "<li> The outliers should be removed on a column by column calculation basis. </li>\n",
    "</ul>\n",
    "\n",
    "This will need some data, either real or generated. If you find this easy, try to modify it to handle a list of specifications, so the user can provide the limits individually for each column."
   ]
  },
  {
   "cell_type": "code",
   "execution_count": null,
   "metadata": {},
   "outputs": [],
   "source": [
    "# Code"
   ]
  }
 ],
 "metadata": {
  "kernelspec": {
   "display_name": "ml_2",
   "language": "python",
   "name": "python3"
  },
  "language_info": {
   "name": "python",
   "version": "3.10.9"
  }
 },
 "nbformat": 4,
 "nbformat_minor": 2
}
